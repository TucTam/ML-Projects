{
 "cells": [
  {
   "cell_type": "code",
   "execution_count": 2,
   "id": "98844eb2-bdb8-4f31-ae61-74553fc7c621",
   "metadata": {},
   "outputs": [],
   "source": [
    "import torch\n",
    "import torch.nn as nn\n",
    "from torchvision import transforms, datasets\n",
    "from sklearn.model_selection import train_test_split\n",
    "import pandas as pd\n",
    "import numpy as np\n",
    "import matplotlib.pyplot as plt\n",
    "\n",
    "device = torch.device(\"cuda\" if torch.cuda.is_available() else \"cpu\")"
   ]
  },
  {
   "cell_type": "code",
   "execution_count": 3,
   "id": "0dde1a25-48e3-4894-92ac-75b71f2a5e2b",
   "metadata": {},
   "outputs": [
    {
     "data": {
      "text/plain": [
       "device(type='cpu')"
      ]
     },
     "execution_count": 3,
     "metadata": {},
     "output_type": "execute_result"
    }
   ],
   "source": [
    "device"
   ]
  },
  {
   "cell_type": "code",
   "execution_count": 4,
   "id": "1715b18f-9d46-4c70-83c2-127886a73165",
   "metadata": {},
   "outputs": [],
   "source": [
    "training_data = pd.read_csv(\"../../datasets/FashionMnist/fashion-mnist_train.csv\")\n",
    "testing_data = pd.read_csv(\"../../datasets/FashionMnist/fashion-mnist_test.csv\")\n",
    "xtrain = training_data.iloc[:,1:]\n",
    "ytrain = training_data.iloc[:, 0]\n",
    "\n",
    "xtest = testing_data.iloc[:,1:]\n",
    "ytest = testing_data.iloc[:,0]\n",
    "\n",
    "ytrain = ytrain.to_numpy().reshape(-1,1).astype('float32') \n",
    "ytest = ytest.to_numpy().reshape(-1,1).astype('float32') "
   ]
  },
  {
   "cell_type": "code",
   "execution_count": null,
   "id": "1af10466-d8b3-412c-b603-3c4e9fdb2af1",
   "metadata": {},
   "outputs": [],
   "source": []
  },
  {
   "cell_type": "code",
   "execution_count": 5,
   "id": "e7d69204-7e3f-4018-8677-c8d774ad6cbe",
   "metadata": {},
   "outputs": [],
   "source": [
    "temp = np.zeros([len(ytrain),10],dtype=\"float32\")\n",
    "for i, repl in enumerate(ytrain):\n",
    "    index = repl[0].astype('int')\n",
    "    temp[i,index] = repl[0]\n",
    "\n",
    "ytrain = temp\n"
   ]
  },
  {
   "cell_type": "code",
   "execution_count": 6,
   "id": "0ce66f7d-7a05-47cd-ae43-8774b5310426",
   "metadata": {},
   "outputs": [],
   "source": [
    "temp = np.zeros([len(ytest),10],dtype=\"float32\")\n",
    "for i, repl in enumerate(ytest):\n",
    "    index = repl[0].astype('int')\n",
    "    temp[i,index] = repl[0]\n",
    "\n",
    "ytest = temp"
   ]
  },
  {
   "cell_type": "code",
   "execution_count": 7,
   "id": "3f5807d6-010c-48d4-b274-8bb4b42e2766",
   "metadata": {},
   "outputs": [],
   "source": [
    "mean = np.nanmean(pd.concat([xtrain,xtest]))/255\n",
    "std = pd.concat([xtrain,xtest]).values.std()/255"
   ]
  },
  {
   "cell_type": "code",
   "execution_count": 8,
   "id": "3355f0ab-2159-4d98-b5d8-6a302099988b",
   "metadata": {},
   "outputs": [],
   "source": [
    "transformer = transforms.Compose([\n",
    "    transforms.ToTensor(),\n",
    "    transforms.Normalize(mean,std)\n",
    "])"
   ]
  },
  {
   "cell_type": "code",
   "execution_count": 9,
   "id": "d5727efa-290d-4e7c-ae34-dc98aade4d06",
   "metadata": {},
   "outputs": [],
   "source": [
    "class fashionMnistData(torch.utils.data.Dataset):\n",
    "    def __init__(self,features: pd.Series, labels: pd.Series, transformer=None):\n",
    "        self.features = features\n",
    "        self.labels = labels\n",
    "        self.transform = transformer\n",
    "\n",
    "    def __len__(self):\n",
    "        return len(self.features)\n",
    "\n",
    "    def __getitem__(self, idx):\n",
    "        image = self.features.iloc[idx].values.reshape(28, 28).astype('float32')\n",
    "        label = self.labels.iloc[idx] if isinstance(self.labels, pd.Series) else self.labels[idx]\n",
    "        if self.transform:\n",
    "            image = self.transform(image)\n",
    "\n",
    "        label = torch.tensor(label).to(device)\n",
    "        return image, label"
   ]
  },
  {
   "cell_type": "code",
   "execution_count": 10,
   "id": "3bc65501-104a-4e5d-b2e3-c8ede93d217d",
   "metadata": {},
   "outputs": [],
   "source": [
    "class fashionMnistClassification(nn.Module):\n",
    "    def __init__(self, input, hid1, hid2, hid3, output, activation=nn.ReLU()):\n",
    "        super(fashionMnistClassification, self).__init__()\n",
    "        self.sequence = nn.Sequential(\n",
    "            nn.Linear(input, hid1),\n",
    "            activation,\n",
    "            nn.Linear(hid1, hid2),\n",
    "            activation,\n",
    "            nn.Linear(hid2, hid3),\n",
    "            activation,\n",
    "            nn.Linear(hid3, output),\n",
    "            activation\n",
    "        )\n",
    "\n",
    "    def forward(self, x):\n",
    "        output = self.sequence(x)\n",
    "        return output"
   ]
  },
  {
   "cell_type": "code",
   "execution_count": 11,
   "id": "2ebb5f06-c15a-4330-bd4e-974f1e720bd7",
   "metadata": {},
   "outputs": [],
   "source": [
    "# Hyperparams\n",
    "epochs = 2\n",
    "batchsize = 100\n",
    "lrate = 0.0001\n",
    "inputsz = xtrain.shape[1]\n",
    "hid1 = 32\n",
    "hid2 = 32\n",
    "hid3 = 32\n",
    "output = 10\n"
   ]
  },
  {
   "cell_type": "code",
   "execution_count": 12,
   "id": "55fd8bcb-14f0-457a-94d3-da0037b52976",
   "metadata": {},
   "outputs": [],
   "source": [
    "# Initializing dataloaders\n",
    "\n",
    "traindb = fashionMnistData(xtrain, ytrain, transformer)\n",
    "testdb = fashionMnistData(xtest, ytest, transformer)\n",
    "\n",
    "trainloader = torch.utils.data.DataLoader(traindb, batch_size=batchsize, shuffle=True)\n",
    "testloader = torch.utils.data.DataLoader(testdb, batch_size=batchsize, shuffle=True)\n"
   ]
  },
  {
   "cell_type": "code",
   "execution_count": 13,
   "id": "7f6d4c9b-ad5c-4e13-8a18-9d11ed58b8aa",
   "metadata": {},
   "outputs": [],
   "source": [
    "model = fashionMnistClassification(inputsz,hid1,hid2,hid3,output,nn.ReLU()).to(device)\n",
    "\n",
    "criterion = nn.CrossEntropyLoss()\n",
    "optimizer = torch.optim.Adam(model.parameters(), lrate)"
   ]
  },
  {
   "cell_type": "code",
   "execution_count": 14,
   "id": "077a9758-71d8-45b1-8134-d3e86cb494ec",
   "metadata": {},
   "outputs": [
    {
     "name": "stdout",
     "output_type": "stream",
     "text": [
      "entropy loss: 2.6317\n"
     ]
    }
   ],
   "source": [
    "# training the model\n",
    "model.train()\n",
    "loss = 0\n",
    "for epoch in range(epochs):\n",
    "    for images, labels in trainloader:\n",
    "        images = images.reshape(-1,28*28).to(device)\n",
    "        \n",
    "        optimizer.zero_grad()\n",
    "        output = model(images)\n",
    "        loss = criterion(output, labels)\n",
    "        loss.backward()\n",
    "        optimizer.step()\n",
    "        \n",
    "print(f\"entropy loss: {loss.item():.4f}\")\n"
   ]
  },
  {
   "cell_type": "code",
   "execution_count": 15,
   "id": "5fe27e1e-4c40-4ee3-af95-24a0704095f1",
   "metadata": {},
   "outputs": [
    {
     "name": "stdout",
     "output_type": "stream",
     "text": [
      "prediction: 7\n",
      "Actual: tensor([0., 0., 0., 0., 0., 0., 0., 7., 0., 0.])\n",
      "index: 63\n"
     ]
    }
   ],
   "source": [
    "# Compare\n",
    "import torch.nn.functional as F\n",
    "import random\n",
    "index = random.randrange(0,100)\n",
    "\n",
    "model.eval()\n",
    "with torch.no_grad():\n",
    "    for image, label in testloader:\n",
    "        image = image.reshape(-1,28*28).to(device)\n",
    "        output = model(image)\n",
    "        probabilities = F.softmax(output, dim=1)\n",
    "        _, predicted = torch.max(probabilities, 1)\n",
    "        print(f\"prediction: {predicted[index]}\\nActual: {label[index]}\\nindex: {index}\")\n",
    "        break"
   ]
  },
  {
   "cell_type": "code",
   "execution_count": null,
   "id": "cb26563f-9aa6-4072-9503-1d75885c7684",
   "metadata": {},
   "outputs": [],
   "source": []
  },
  {
   "cell_type": "code",
   "execution_count": null,
   "id": "bdebe9f3-d7ac-49fc-b8f0-e2e91ab83f15",
   "metadata": {},
   "outputs": [],
   "source": []
  },
  {
   "cell_type": "code",
   "execution_count": null,
   "id": "74f9572c-ec64-4a21-9e05-410fce3d2a6a",
   "metadata": {},
   "outputs": [],
   "source": []
  }
 ],
 "metadata": {
  "kernelspec": {
   "display_name": "Python 3 (ipykernel)",
   "language": "python",
   "name": "python3"
  },
  "language_info": {
   "codemirror_mode": {
    "name": "ipython",
    "version": 3
   },
   "file_extension": ".py",
   "mimetype": "text/x-python",
   "name": "python",
   "nbconvert_exporter": "python",
   "pygments_lexer": "ipython3",
   "version": "3.11.9"
  }
 },
 "nbformat": 4,
 "nbformat_minor": 5
}
