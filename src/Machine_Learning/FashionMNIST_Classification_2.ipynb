{
 "cells": [
  {
   "cell_type": "markdown",
   "id": "add1cb68-8545-4ba6-ab9e-ff9ab4b82dcf",
   "metadata": {},
   "source": [
    "### Fashion MNIST classification\n",
    "\n",
    "This is a ML learning model that classifies clothing types by giving them numbers. There are 10 different types of clothes in the Fashion MNIST database.\n",
    "\n",
    "## Dataset\n",
    "- Fashion MNIST Data from kaggle.\n",
    "\n",
    "## Model Architechture\n",
    "- Classic feed forward model using 5 layers\n",
    "- 28*28 node input layer\n",
    "- three 16 nodes hidden layers\n",
    "- 10 node output layer\n",
    "- Activation function: ReLU\n",
    "- Output activation: Softmax\n",
    "- Loss function: MSELoss\n",
    "- Optimizer: Adam\n",
    "\n",
    "## Training\n",
    "- Epochs: 2\n",
    "- Batchsize: 100\n",
    "- Learning rate: 0.0001\n",
    "- Training Ratio: 0.8\n",
    "\n",
    "## Evaluation\n",
    "- Accuracy: 0.95 with the specifications above\n",
    "\n",
    "## Conclusion\n",
    "- This model performs well enough for classifying fashion MNIST data"
   ]
  },
  {
   "cell_type": "code",
   "execution_count": 1,
   "id": "7d5d0828-af1c-4371-9e51-c90fc43d218f",
   "metadata": {},
   "outputs": [
    {
     "data": {
      "text/plain": [
       "'cuda'"
      ]
     },
     "execution_count": 1,
     "metadata": {},
     "output_type": "execute_result"
    }
   ],
   "source": [
    "import torch\n",
    "import torch.nn as nn\n",
    "from torchvision.transforms import transforms\n",
    "import pandas as pd\n",
    "import numpy as np\n",
    "from sklearn.model_selection import train_test_split\n",
    "import matplotlib.pyplot as plt\n",
    "\n",
    "device = \"cuda\" if torch.cuda.is_available() else \"cpu\"\n",
    "device"
   ]
  },
  {
   "cell_type": "code",
   "execution_count": 2,
   "id": "11decca5-b113-4a6c-901b-03e2a403cd81",
   "metadata": {},
   "outputs": [],
   "source": [
    "datatest = pd.read_csv(\"../../datasets/FashionMnist/fashion-mnist_test.csv\")\n",
    "datatrain  = pd.read_csv(\"../../datasets/FashionMnist/fashion-mnist_train.csv\")"
   ]
  },
  {
   "cell_type": "code",
   "execution_count": 3,
   "id": "a5f02f99-eaaf-4eef-aa9a-e3efc0986cd7",
   "metadata": {},
   "outputs": [],
   "source": [
    "data = pd.concat([datatrain,datatest])"
   ]
  },
  {
   "cell_type": "code",
   "execution_count": 4,
   "id": "9d1febfd-ba6b-476f-9f8a-ea03cd82ace9",
   "metadata": {},
   "outputs": [],
   "source": [
    "features = data.iloc[:,1:]\n",
    "labels = data.iloc[:,0]"
   ]
  },
  {
   "cell_type": "code",
   "execution_count": 5,
   "id": "79992c4f-5fdf-45d0-a7d7-b0e514f0376e",
   "metadata": {},
   "outputs": [
    {
     "data": {
      "text/plain": [
       "array([[0., 0., 1., ..., 0., 0., 0.],\n",
       "       [0., 0., 0., ..., 0., 0., 1.],\n",
       "       [0., 0., 0., ..., 0., 0., 0.],\n",
       "       ...,\n",
       "       [0., 0., 0., ..., 0., 1., 0.],\n",
       "       [0., 0., 0., ..., 0., 1., 0.],\n",
       "       [0., 1., 0., ..., 0., 0., 0.]])"
      ]
     },
     "execution_count": 5,
     "metadata": {},
     "output_type": "execute_result"
    }
   ],
   "source": [
    "def reshape_labels(data):\n",
    "    reshaped = np.zeros([len(data), 10])\n",
    "    data = pd.DataFrame(data)\n",
    "    # Reshaping the label data\n",
    "    for i in range(0,len(data)):\n",
    "        reshaped[i, data.iloc[i]] = 1\n",
    "    return reshaped\n",
    "\n",
    "labels = reshape_labels(labels)\n",
    "labels"
   ]
  },
  {
   "cell_type": "code",
   "execution_count": 6,
   "id": "9e832fb8-fc05-4575-97d7-19a757ff1e71",
   "metadata": {},
   "outputs": [],
   "source": [
    "transformer = transforms.Compose([\n",
    "    transforms.ToTensor(),\n",
    "    transforms.Normalize((0.1307), (0.3081))\n",
    "])"
   ]
  },
  {
   "cell_type": "code",
   "execution_count": 7,
   "id": "b74a0f4f-7e5d-45b5-8f00-9ea6c638e692",
   "metadata": {},
   "outputs": [],
   "source": [
    "class dataset():\n",
    "    def __init__(self, features, labels, transform):\n",
    "        self.feats = features\n",
    "        self.labels = labels\n",
    "        self.transform = transform\n",
    "\n",
    "    def __len__(self):\n",
    "        return len(self.feats)\n",
    "\n",
    "    def __getitem__(self, idx):\n",
    "        image = self.feats.iloc[idx].values.reshape(28, 28).astype('float32')\n",
    "        label = self.labels.iloc[idx] if isinstance(self.labels, pd.Series) else self.labels[idx]\n",
    "        label = torch.Tensor(label)\n",
    "        if self.transform:\n",
    "            image = self.transform(image)\n",
    "\n",
    "        return image, label"
   ]
  },
  {
   "cell_type": "code",
   "execution_count": 8,
   "id": "45119ba9-413b-468e-bc12-3c8e89cc9bfa",
   "metadata": {},
   "outputs": [],
   "source": [
    "# Hyper params\n",
    "epochs = 2\n",
    "batchsz = 100\n",
    "learnrate = 0.0001\n",
    "inputsz = features.shape[1]\n",
    "hid1 = 16\n",
    "hid2 = 16\n",
    "hid3 = 16\n",
    "outsz = labels.shape[1]"
   ]
  },
  {
   "cell_type": "code",
   "execution_count": 9,
   "id": "6cdfbb9e-aaf1-4e16-8936-db14e34fb2f4",
   "metadata": {},
   "outputs": [],
   "source": [
    "xtrain, xtest, ytrain, ytest = train_test_split(features, labels, train_size=0.8)\n",
    "\n",
    "traindataset = dataset(xtrain,  ytrain, transformer)\n",
    "testdataset = dataset(xtest, ytest, transformer)\n",
    "\n",
    "trainloader = torch.utils.data.DataLoader(traindataset, batch_size = batchsz, shuffle=True)\n",
    "testloader = torch.utils.data.DataLoader(testdataset, batch_size = batchsz, shuffle=True)"
   ]
  },
  {
   "cell_type": "code",
   "execution_count": null,
   "id": "677f7578-3a9e-4421-8f69-f9a3b55f9001",
   "metadata": {},
   "outputs": [],
   "source": []
  },
  {
   "cell_type": "code",
   "execution_count": 10,
   "id": "c20f76d2-c5a7-4d7b-99bd-c3e77e50da2f",
   "metadata": {},
   "outputs": [],
   "source": [
    "class FashionClassifier(nn.Module):\n",
    "    def __init__(self, insize, hid1, hid2, hid3, outsz, activation=nn.ReLU()):\n",
    "        super(FashionClassifier, self).__init__()\n",
    "        self.sequence = nn.Sequential(\n",
    "            nn.Linear(insize, hid1),\n",
    "            activation,\n",
    "            nn.Linear(hid1, hid2),\n",
    "            activation,\n",
    "            nn.Linear(hid2, hid3),\n",
    "            activation,\n",
    "            nn.Linear(hid3, outsz),\n",
    "            nn.Softmax(dim=1)\n",
    "        )\n",
    "\n",
    "    def forward(self, data):\n",
    "        output = self.sequence(data)\n",
    "        return output\n"
   ]
  },
  {
   "cell_type": "code",
   "execution_count": 11,
   "id": "e525e6e4-7a2c-4848-b8ad-1b3c033acbc2",
   "metadata": {},
   "outputs": [],
   "source": [
    "## Initializing the model, loss, and optimizer\n",
    "model = FashionClassifier(inputsz, hid1, hid2, hid3, outsz).to(device)\n",
    "\n",
    "criterion = nn.MSELoss()\n",
    "optimizer = torch.optim.Adam(model.parameters(), learnrate)"
   ]
  },
  {
   "cell_type": "code",
   "execution_count": null,
   "id": "4a719ca3-0e8a-4fae-ac62-25be45821d2f",
   "metadata": {},
   "outputs": [],
   "source": []
  },
  {
   "cell_type": "code",
   "execution_count": 12,
   "id": "db6c4305-ab83-490e-a0ff-201e7102b8eb",
   "metadata": {},
   "outputs": [
    {
     "name": "stdout",
     "output_type": "stream",
     "text": [
      "MSE Loss: 0.03275540471076965\n"
     ]
    }
   ],
   "source": [
    "## Training the model\n",
    "model.train()\n",
    "loss = 0\n",
    "for epoch in range(epochs):\n",
    "    for image, label in trainloader:\n",
    "        optimizer.zero_grad()\n",
    "        image = image.reshape(-1, 28*28).to(device)\n",
    "        label = label.to(device)\n",
    "\n",
    "        prediction = model(image)\n",
    "        loss = criterion(prediction, label)\n",
    "        loss.backward()\n",
    "        optimizer.step()\n",
    "\n",
    "print(f\"MSE Loss: {loss}\")        "
   ]
  },
  {
   "cell_type": "code",
   "execution_count": 47,
   "id": "17bc73bb-22df-48bb-a3a8-6db3b73fde61",
   "metadata": {},
   "outputs": [
    {
     "name": "stdout",
     "output_type": "stream",
     "text": [
      "prediction: 5\n",
      "Actual: 5\n",
      "Index of the batch: 73\n"
     ]
    }
   ],
   "source": [
    "# Compare\n",
    "import torch.nn.functional as F\n",
    "import random\n",
    "index = random.randrange(0,100)\n",
    "\n",
    "model.eval()\n",
    "with torch.no_grad():\n",
    "    for image, label in testloader:\n",
    "        image = image.reshape(-1,28*28).to(device)\n",
    "        output = model(image)\n",
    "        _, predicted = torch.max(output, 1)\n",
    "        indices = torch.nonzero(label == 1)\n",
    "        print(f\"prediction: {predicted[index]}\\nActual: {indices[index,1]}\\nIndex of the batch: {index}\")\n",
    "        break\n",
    "\n"
   ]
  },
  {
   "cell_type": "code",
   "execution_count": 48,
   "id": "b373b8d1-2a79-4533-959f-00be94bcbf99",
   "metadata": {},
   "outputs": [
    {
     "name": "stdout",
     "output_type": "stream",
     "text": [
      "Accuracy Score: 0.9502285718917847\n"
     ]
    }
   ],
   "source": [
    "import torchmetrics\n",
    "\n",
    "Accuracymetric = torchmetrics.Accuracy(task='multiclass', num_classes=10).to(device)\n",
    "\n",
    "model.eval()\n",
    "with torch.no_grad():\n",
    "    for image, label in testloader:\n",
    "        image = image.reshape(-1,28*28).to(device)\n",
    "        label = label.to(device)\n",
    "        \n",
    "        output = model(image)\n",
    "        _, predicted = torch.max(output, 1)\n",
    "        predicted = torch.Tensor(reshape_labels(predicted.cpu().numpy())).to(device)\n",
    "        \n",
    "        Accuracymetric.update(predicted,label)\n",
    "\n",
    "AccyracyScore = Accuracymetric.compute()\n",
    "\n",
    "print(f\"Accuracy Score: {AccyracyScore}\")        "
   ]
  },
  {
   "cell_type": "code",
   "execution_count": null,
   "id": "9e6800c0-cfed-4a96-a08a-bafc5d5102db",
   "metadata": {},
   "outputs": [],
   "source": []
  }
 ],
 "metadata": {
  "kernelspec": {
   "display_name": "Python 3 (ipykernel)",
   "language": "python",
   "name": "python3"
  },
  "language_info": {
   "codemirror_mode": {
    "name": "ipython",
    "version": 3
   },
   "file_extension": ".py",
   "mimetype": "text/x-python",
   "name": "python",
   "nbconvert_exporter": "python",
   "pygments_lexer": "ipython3",
   "version": "3.11.9"
  }
 },
 "nbformat": 4,
 "nbformat_minor": 5
}
