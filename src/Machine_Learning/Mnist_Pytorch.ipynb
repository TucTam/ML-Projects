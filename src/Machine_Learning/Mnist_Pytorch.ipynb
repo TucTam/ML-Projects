{
 "cells": [
  {
   "cell_type": "code",
   "execution_count": 1,
   "id": "8035c140-f993-4ec6-ab03-a7b8f71efca1",
   "metadata": {},
   "outputs": [],
   "source": [
    "import torch\n",
    "import torch.nn as nn\n",
    "import torchvision\n",
    "from torchvision import transforms\n",
    "import pandas as pd\n",
    "import numpy as np\n",
    "import matplotlib as plt\n",
    "from sklearn.model_selection import train_test_split\n",
    "# Defining the device to be used\n",
    "device = torch.device('cuda' if torch.cuda.is_available() else 'cpu')"
   ]
  },
  {
   "cell_type": "code",
   "execution_count": 2,
   "id": "7ce8e2c1-699f-4f6e-8e76-93a88f5b5b77",
   "metadata": {},
   "outputs": [],
   "source": [
    "#hyperparams\n",
    "epochs = 2\n",
    "batchsize = 100\n",
    "lr = 0.0001\n",
    "inputsize = 28*28\n",
    "hid_layer1_sz = 32\n",
    "hid_layer2_sz = 32\n",
    "hid_layer3_sz = 16\n",
    "class_size = 10"
   ]
  },
  {
   "cell_type": "code",
   "execution_count": 3,
   "id": "6eed7d39-b4c2-4dcc-8e73-529f30b9c9e5",
   "metadata": {},
   "outputs": [],
   "source": [
    "\n",
    "#loading database\n",
    "db = pd.read_csv('../../datasets/TMNIST_Data.csv')\n",
    "features = db.iloc[:, 2:]\n",
    "labels = db.labels\n",
    "\n",
    "ftmean = np.nanmean(features) / 255\n",
    "ftstd = features.values.std() / 255"
   ]
  },
  {
   "cell_type": "code",
   "execution_count": null,
   "id": "82d5489e-b6c0-45f0-9006-1a0324756e0b",
   "metadata": {},
   "outputs": [],
   "source": []
  },
  {
   "cell_type": "code",
   "execution_count": 4,
   "id": "62c522f2-c536-41f6-895a-26baf409d6ee",
   "metadata": {},
   "outputs": [],
   "source": [
    "transform = transforms.Compose([\n",
    "    transforms.ToTensor(),\n",
    "    transforms.Normalize((ftmean,), (ftstd,))\n",
    "])"
   ]
  },
  {
   "cell_type": "code",
   "execution_count": 5,
   "id": "0b7a505a-f7aa-4ff9-84a1-091f65dd6956",
   "metadata": {},
   "outputs": [],
   "source": [
    "class MNISTDataset(torch.utils.data.Dataset):\n",
    "    def __init__(self, features, labels, transform=None):\n",
    "        self.features = features\n",
    "        self.labels = labels\n",
    "        self.transform = transform\n",
    "    \n",
    "    def __len__(self):\n",
    "        return len(self.labels)\n",
    "    \n",
    "    def __getitem__(self, idx):\n",
    "        image = self.features.iloc[idx].values.reshape(28, 28).astype('float32')\n",
    "        label = self.labels.iloc[idx] if isinstance(self.labels, pd.Series) else self.labels[idx]\n",
    "        \n",
    "        if self.transform:\n",
    "            image = self.transform(image)\n",
    "        \n",
    "        return image, label"
   ]
  },
  {
   "cell_type": "code",
   "execution_count": 6,
   "id": "d21320c7-84d8-43c0-aef3-4122ed278504",
   "metadata": {},
   "outputs": [],
   "source": [
    "# SPLITTING OUR DATA INTO TRAINING AND TESTING:\n",
    "xtrain, xtest, ytrain, ytest = train_test_split(features, labels, train_size=0.8)\n",
    "\n",
    "# WE INITIALIZE OUR TRAINING AND TESTING DATASETS:\n",
    "train_db = MNISTDataset(xtrain,ytrain,transform)\n",
    "test_db = MNISTDataset(xtest,ytest,transform)\n",
    "\n",
    "# THIS IS THE DATASET/DATALOADER THAT WE USE FOR TRAINING\n",
    "TRAIN_DL = torch.utils.data.DataLoader(train_db, batch_size=batchsize, shuffle=True)\n",
    "TEST_DL = torch.utils.data.DataLoader(test_db, batch_size=batchsize, shuffle=False)"
   ]
  },
  {
   "cell_type": "code",
   "execution_count": 7,
   "id": "57a2447a-c3dc-4139-b00e-d14857100309",
   "metadata": {},
   "outputs": [],
   "source": [
    "\n",
    "# Creating our model architecture\n",
    "class NeuralNetwork(nn.Module):\n",
    "    def __init__(self,inputsize, hidden1_sz, hidden2_sz, hidden3_sz, class_sz):\n",
    "        super(NeuralNetwork, self).__init__()\n",
    "        self.layer1 = nn.Linear(inputsize,hidden1_sz)\n",
    "        self.activation = nn.ReLU()\n",
    "        self.layer2 = nn.Linear(hidden1_sz, hidden2_sz)\n",
    "        self.layer3 = nn.Linear(hidden2_sz, hidden3_sz)\n",
    "        self.layer4 = nn.Linear(hidden3_sz, class_sz)\n",
    "\n",
    "    def forward(self, x):\n",
    "        output = self.layer1(x)\n",
    "        output = self.activation(output)\n",
    "        output = self.layer2(output)\n",
    "        output = self.activation(output)\n",
    "        output = self.layer3(output)\n",
    "        output = self.activation(output)\n",
    "        output = self.layer4(output)\n",
    "        output = self.activation(output)\n",
    "        return output"
   ]
  },
  {
   "cell_type": "code",
   "execution_count": 8,
   "id": "5e003e75-1718-41f2-a352-8937771cd38d",
   "metadata": {},
   "outputs": [],
   "source": [
    "# Initializing our model\n",
    "model = NeuralNetwork(inputsize,hid_layer1_sz,hid_layer2_sz,hid_layer3_sz,class_size).to(device)\n",
    "\n",
    "# Defining our loss and optimizer\n",
    "criterion = nn.CrossEntropyLoss()\n",
    "optimizer = torch.optim.Adam(model.parameters(), lr=lr)"
   ]
  },
  {
   "cell_type": "code",
   "execution_count": 9,
   "id": "bfae2f09-424b-492a-9ea2-aef1d84f0389",
   "metadata": {},
   "outputs": [
    {
     "name": "stdout",
     "output_type": "stream",
     "text": [
      "Epoch [1/2], Step [100/240], loss: 2.1248\n",
      "Epoch [1/2], Step [200/240], loss: 1.5164\n",
      "Epoch [2/2], Step [100/240], loss: 0.9312\n",
      "Epoch [2/2], Step [200/240], loss: 0.8408\n"
     ]
    }
   ],
   "source": [
    "n_total_steps = len(TRAIN_DL)\n",
    "for epoch in range(epochs):\n",
    "    for i, (images, labels) in enumerate(TRAIN_DL):\n",
    "        images = images.reshape(-1, 28*28).to(device)\n",
    "        labels = labels.to(device)\n",
    "\n",
    "        outputs = model(images)\n",
    "        loss = criterion(outputs, labels)\n",
    "\n",
    "        loss.backward()\n",
    "        optimizer.step()\n",
    "        optimizer.zero_grad()\n",
    "\n",
    "        if (i+1) % 100 == 0:\n",
    "            print(f'Epoch [{epoch+1}/{epochs}], Step [{i+1}/{n_total_steps}], loss: {loss.item():.4f}')\n"
   ]
  },
  {
   "cell_type": "code",
   "execution_count": 10,
   "id": "9f7d6d74-4afe-4151-9278-d966c155fc19",
   "metadata": {},
   "outputs": [
    {
     "name": "stdout",
     "output_type": "stream",
     "text": [
      "Accuracy of the network on the 5980 test images: 78.61204013377926 %\n"
     ]
    }
   ],
   "source": [
    "with torch.no_grad():\n",
    "    n_correct = 0\n",
    "    n_samples = len(TEST_DL.dataset)\n",
    "    for images, labels in TEST_DL:\n",
    "        images = images.reshape(-1, 28*28).to(device)\n",
    "        labels = labels.to(device)\n",
    "    \n",
    "        outputs = model(images)\n",
    "        a, predicted = torch.max(outputs, 1)\n",
    "        n_correct += (predicted == labels).sum().item()\n",
    "    \n",
    "    acc = n_correct / n_samples\n",
    "    print(f'Accuracy of the network on the {n_samples} test images: {100*acc} %')"
   ]
  },
  {
   "cell_type": "code",
   "execution_count": null,
   "id": "1562691b-b690-417c-a526-14e2a8c250f1",
   "metadata": {},
   "outputs": [],
   "source": []
  },
  {
   "cell_type": "code",
   "execution_count": null,
   "id": "f47c8d3c-3e9e-43ea-8234-968dbb2b5bb2",
   "metadata": {},
   "outputs": [],
   "source": []
  }
 ],
 "metadata": {
  "kernelspec": {
   "display_name": "Python 3 (ipykernel)",
   "language": "python",
   "name": "python3"
  },
  "language_info": {
   "codemirror_mode": {
    "name": "ipython",
    "version": 3
   },
   "file_extension": ".py",
   "mimetype": "text/x-python",
   "name": "python",
   "nbconvert_exporter": "python",
   "pygments_lexer": "ipython3",
   "version": "3.11.9"
  }
 },
 "nbformat": 4,
 "nbformat_minor": 5
}
