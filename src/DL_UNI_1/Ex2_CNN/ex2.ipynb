{
 "cells": [
  {
   "cell_type": "markdown",
   "id": "55c51798",
   "metadata": {},
   "source": [
    "**Important! Please do not remove any cells, including the test cells, even if they appear empty. They contain hidden tests, and deleting them could result in a loss of points, as the exercises are graded automatically. Only edit the cells where you are instructed to write your solution.**  "
   ]
  },
  {
   "cell_type": "markdown",
   "id": "f2979c0f-4a55-471c-bbcd-3028dd46ae63",
   "metadata": {
    "deletable": false,
    "editable": false,
    "slideshow": {
     "slide_type": ""
    },
    "tags": []
   },
   "source": [
    "### Exercise 2: Convolutional Neural Networks\n",
    "\n",
    "In this exercise, you will train a convolutional neural network (CNN) for **image denoising**—removing noise from images to recover clean images. Noise can arise from poor lighting, camera sensors, or compression artifacts, and the goal is to reduce this noise while preserving image details.\n",
    "\n",
    "<div style=\"text-align: center;\">\n",
    "    <img src=\"denoising_example.PNG\" alt=\"Image Title\" style=\"width:500px; height:auto;\"/>\n",
    "</div>\n",
    "\n",
    "For supervised learning, we will use pairs of noisy images and their original clean versions as inputs and labels respectively. To simulate this, we will add noise to clean images, treating the noisy images as inputs and the clean images as targets.\n",
    "\n",
    "You will build a CNN with a U-Net architecture to perform image denoising on the [STL10 dataset](https://cs.stanford.edu/~acoates/stl10/).\n",
    "\n",
    "#### Code Template\n",
    "\n",
    "To complete this assignment, you will fill in the provided code template below. Your main tasks include:\n",
    "\n",
    "1. **Defining the Model (10 points)**\n",
    "2. **Setting the Loss Criterion and Optimizer (2 points)**\n",
    "3. **Writing the Training Loop (4 points)**\n",
    "4. **Writing the Testing Loop (4 points)**\n",
    "\n",
    "Make sure to follow the instructions in the code template carefully and test your implementation before submission. If your code passes all the visible test cases, you get 50% of the points for each task. The remaining points are based on hidden test cases evaluated after submission.\n",
    "\n",
    "**Deliverables:** <br>\n",
    "\n",
    "Submit the completed notebook (ex2.ipynb) and your trained model (best_model.pth) to moodle. \n",
    "Do not change the name of the notebook file. It may result in 0 points for the exercise.\n",
    "\n",
    "**Let's begin!**"
   ]
  },
  {
   "cell_type": "code",
   "execution_count": 1,
   "id": "16943cbf-f20b-4bdf-ad1b-d9c875aa4f0a",
   "metadata": {
    "deletable": false,
    "editable": false,
    "slideshow": {
     "slide_type": ""
    },
    "tags": []
   },
   "outputs": [],
   "source": [
    "skip_training = False   # You can set it to True if you want to run inference on your trained model. "
   ]
  },
  {
   "cell_type": "code",
   "execution_count": 2,
   "id": "d417a8f1-5730-471f-b015-5d9e5bf8002e",
   "metadata": {
    "deletable": false,
    "editable": false,
    "nbgrader": {
     "cell_type": "code",
     "checksum": "4315bf2984ad9ed3ba3f5673d4e7fdad",
     "grade": true,
     "grade_id": "cell-ee616651f88cfbc6",
     "locked": true,
     "points": 0,
     "schema_version": 3,
     "solution": false,
     "task": false
    },
    "slideshow": {
     "slide_type": ""
    },
    "tags": []
   },
   "outputs": [],
   "source": [
    "# Do not delete this cell"
   ]
  },
  {
   "cell_type": "markdown",
   "id": "9f9c4f59-f4bd-4f86-bd3b-ae089245c2ef",
   "metadata": {
    "deletable": false,
    "editable": false,
    "slideshow": {
     "slide_type": ""
    },
    "tags": []
   },
   "source": [
    "<h3>Import all the necessary libraries </h3>\n",
    "\r",
    "Firstl, we will import the essential libraries needed for building and training a deep learning model using PyTorch.:\r\n",
    "\r\n",
    "- `torch`: The core library for building neural networks in PyTorch.\r\n",
    "- `torch.nn`: Provides modules and classes for building neural network lay\n",
    "- `torch.optim`: Provides classes for various optimizers used to update weights during training. ers.\r\n",
    "- `numpy`: A library for numerical computations, particularly for working with arrays.\r\n",
    "- `tqdm`: A useful library for displaying progress bars during iterations or loops.\r\n",
    "- `matplotlib.pyplot`: Used for plotting graphs and visualizing data.\r\n",
    "- `torchvision`: A PyTorch library for image transformations and loading datasets.\r\n",
    "- `transforms`: A module within `torchvision` for applying transformations to images, such as resizing, normalization, etc.\r\n",
    "- `STL10`: A popular image dataset used in deep learning tasks.\r\n",
    "- `random_split`: A utility to split datasets into training, validation, and test sets.\r\n",
    "- `DataLoader`: Helps in efficiently loading datasets in batches for model training.\r\n"
   ]
  },
  {
   "cell_type": "code",
   "execution_count": 3,
   "id": "93d246d6-1189-4dcc-ab70-c26a1a657abb",
   "metadata": {
    "deletable": false,
    "editable": false,
    "slideshow": {
     "slide_type": ""
    },
    "tags": []
   },
   "outputs": [],
   "source": [
    "import torch\n",
    "import torch.nn as nn\n",
    "import torch.optim as optim\n",
    "import numpy as np\n",
    "from tqdm import tqdm\n",
    "import matplotlib.pyplot as plt\n",
    "import torchvision\n",
    "from torchvision import transforms\n",
    "from torchvision.datasets import STL10\n",
    "from torch.utils.data import random_split, DataLoader"
   ]
  },
  {
   "cell_type": "markdown",
   "id": "f0ba6cde-7012-47eb-9afe-ba265e58f2e2",
   "metadata": {
    "deletable": false,
    "editable": false,
    "slideshow": {
     "slide_type": ""
    },
    "tags": []
   },
   "source": [
    "<h3> Select the device the run the model.</h3>\n",
    "\n",
    "In this step, we will determine whether the model will run on a GPU (if available) or fall back to the CPU. Using a GPU for deep learning tasks can significantly speed up training, especially with large models or datasets.\n",
    "\n",
    "- `torch.device('cuda' if torch.cuda.is_available() else 'cpu')`: This checks for a CUDA-enabled GPU.\n",
    "  - If a GPU is available, it assigns `'cuda'` as the device.\n",
    "  - If no GPU is available, it defaults to the CPU (`'cpu'`).\n",
    "\n",
    "Make sure to always transfer both the model and the data to the selected device.\r\n"
   ]
  },
  {
   "cell_type": "code",
   "execution_count": null,
   "id": "d70103c8-793b-4e58-86b9-9ab8488e36b2",
   "metadata": {
    "deletable": false,
    "editable": false,
    "slideshow": {
     "slide_type": ""
    },
    "tags": []
   },
   "outputs": [],
   "source": [
    "device = torch.device('cuda' if torch.cuda.is_available() else 'cpu')\n",
    "print(device)"
   ]
  },
  {
   "cell_type": "markdown",
   "id": "63dfdd57-711e-45af-afea-b6e723ef304d",
   "metadata": {
    "deletable": false,
    "editable": false,
    "slideshow": {
     "slide_type": ""
    },
    "tags": []
   },
   "source": [
    "<h3> Download the dataset and create a dataloader to loop through mini batches of data. </h3>\n",
    "\n",
    "In this step, we will download and prepare the STL10 dataset, which consists of 96x96 pixel images divided into 10 classes. We will split the dataset into a training set and a test set.\n",
    "\n",
    "- `STL10`: Downloads the dataset and applies the transformation to convert the images into tensors.\n",
    "- `train_size` and `test_size`: Specify the number of samples for the training and testing datasets, respectively. Here, we're using 4000 samples for training and 1000 for testing.\n",
    "- `random_split`: Randomly splits the dataset into the specified sizes for training and testing.\n",
    "- `DataLoader`: Loads the dataset into batches, making it easier to iterate through the dataset during training and testing. \n",
    "  - `batch_size=8`: Each batch will contain 8 images.\n",
    "  - `shuffle=True`: Randomly shuffles the dataset at each epoch to improve training.\n",
    "\n",
    "Be patient while the dataset downloads for the first time. It may take a while depending on your internet connection."
   ]
  },
  {
   "cell_type": "code",
   "execution_count": null,
   "id": "52f0253d-b51e-4762-9f90-3a869064ea3d",
   "metadata": {
    "deletable": false,
    "editable": true,
    "slideshow": {
     "slide_type": ""
    },
    "tags": []
   },
   "outputs": [],
   "source": [
    "dataset_path = './dataset_ex2' # you can change the path if you want to store the dataset somewhere else."
   ]
  },
  {
   "cell_type": "code",
   "execution_count": null,
   "id": "3075321d-dddb-46d7-b9a2-c8fb815dc780",
   "metadata": {
    "deletable": false,
    "editable": false,
    "nbgrader": {
     "cell_type": "code",
     "checksum": "0bbe2fbe2bdc64ee5bc38655bf639750",
     "grade": true,
     "grade_id": "cell-f903fb9677587f04",
     "locked": true,
     "points": 0,
     "schema_version": 3,
     "solution": false,
     "task": false
    },
    "slideshow": {
     "slide_type": ""
    },
    "tags": []
   },
   "outputs": [],
   "source": [
    "# Do not delete this cell"
   ]
  },
  {
   "cell_type": "code",
   "execution_count": null,
   "id": "42ec5e1d-3659-4476-9b8b-d749952d2d3a",
   "metadata": {
    "deletable": false,
    "editable": false,
    "slideshow": {
     "slide_type": ""
    },
    "tags": []
   },
   "outputs": [],
   "source": [
    "dataset = STL10(root=dataset_path, split='train', transform=transforms.ToTensor(), download=True)\n",
    "train_size = 4000\n",
    "test_size = 1000\n",
    "\n",
    "train_dataset, test_dataset = random_split(dataset, [train_size, test_size])\n",
    "train_loader = DataLoader(train_dataset, batch_size=8, shuffle=True)\n",
    "test_loader = DataLoader(test_dataset, batch_size=8, shuffle=True)"
   ]
  },
  {
   "cell_type": "markdown",
   "id": "9942dc7f-a660-4b59-aea4-e2988c2a0558",
   "metadata": {
    "deletable": false,
    "editable": false,
    "slideshow": {
     "slide_type": ""
    },
    "tags": []
   },
   "source": [
    "<h3> Adding Gaussian Noise to Images </h3>\n",
    "\n",
    "In this step, we will create a function to add Gaussian noise to the images and visualize both the original and noisy images.\n",
    "- `add_gaussian_noise(images, mean, std)`: Adds random Gaussian noise to the images.\n",
    "  - `mean` and `std`: These parameters define the mean and standard deviation of the noise.\n",
    "  - `torch.randn_like(images)`: Generates random noise of the same shape as the input images.\n",
    "  - `torch.clamp`: Ensures the noisy pixel values stay between 0 and 1, as required for valid image data.\n",
    "<br><br>\n",
    "- `imshow(img, ax, title)`: A utility function to display images.\n",
    "  - The images are converted from tensors to NumPy arrays, and their channels are rearranged for correct visualization.\n",
    "<br><br>\n",
    "- We then retrieve a batch of training data from `train_loader` and apply Gaussian noise to this batch.\n",
    "- The original and noisy images are displayed side by side using `matplotlib` for comparison."
   ]
  },
  {
   "cell_type": "code",
   "execution_count": null,
   "id": "447d8d01-270f-4603-a764-7bc7469b1dec",
   "metadata": {
    "deletable": false,
    "editable": false,
    "slideshow": {
     "slide_type": ""
    },
    "tags": []
   },
   "outputs": [],
   "source": [
    "def add_gaussian_noise(images, mean=0, std=0.1):\n",
    "    noise = torch.randn_like(images) * std + mean\n",
    "    noisy_images = images + noise\n",
    "    noisy_images = torch.clamp(noisy_images, 0., 1.)\n",
    "    return noisy_images"
   ]
  },
  {
   "cell_type": "code",
   "execution_count": null,
   "id": "85dd4f94-82b6-44f6-bc10-34320e9897db",
   "metadata": {
    "deletable": false,
    "editable": false,
    "slideshow": {
     "slide_type": ""
    },
    "tags": []
   },
   "outputs": [],
   "source": [
    "def imshow(img, ax, title):\n",
    "    np_img = img.numpy()\n",
    "    ax.imshow(np.transpose(np_img, (1, 2, 0)))\n",
    "    ax.set_title(title)\n",
    "    ax.axis('off')"
   ]
  },
  {
   "cell_type": "markdown",
   "id": "68735377-a33f-4cfb-928e-596f32c94e65",
   "metadata": {
    "deletable": false,
    "editable": false,
    "slideshow": {
     "slide_type": ""
    },
    "tags": []
   },
   "source": [
    "The STL10 dataset is mainly built for classification task. For our purpose, we shall ignore the classification labels and use only the images. Hence we use:\n",
    "- `images, _ = next(iter(train_loader))`: We only store the images (images )and ignore ( _ ) the labels."
   ]
  },
  {
   "cell_type": "code",
   "execution_count": null,
   "id": "6d263ef9-76c0-4cb8-9d09-4ced2bb0e1fd",
   "metadata": {
    "deletable": false,
    "editable": false,
    "slideshow": {
     "slide_type": ""
    },
    "tags": []
   },
   "outputs": [],
   "source": [
    "# Get a batch of training data\n",
    "images, _ = next(iter(train_loader))\n",
    "noisy_images = add_gaussian_noise(images)\n",
    "\n",
    "fig, axes = plt.subplots(1, 2, figsize=(12, 6))\n",
    "imshow(torchvision.utils.make_grid(images[:4]), axes[0], 'Original Images')\n",
    "imshow(torchvision.utils.make_grid(noisy_images[:4]), axes[1], 'Noisy Images')\n",
    "plt.show()"
   ]
  },
  {
   "cell_type": "markdown",
   "id": "0cc897fd-b8ac-4d7e-bda9-e17b37c918ca",
   "metadata": {
    "deletable": false,
    "editable": false,
    "slideshow": {
     "slide_type": ""
    },
    "tags": []
   },
   "source": [
    "<h3>Task 1: Define the U-Net Model Class <b> (10 points) </b>. </h3>\n",
    "\n",
    "Your task is implementing a mini version of the U-Net architecture shown below.\n",
    "\n",
    "<div style=\"text-align: center;\">\n",
    "    <img src=\"MiniUNet.png\" alt=\"Image Title\" style=\"width:500px; height:auto;\"/>\n",
    "</div>\n",
    "\n",
    "**Your Task:**\n",
    "- Initialize all the layers in the `__init__` method.\n",
    "- Complete the `forward` method to pass the input through the layers in accordance with the architecture.\n",
    "\n",
    "**Useful links:**\n",
    "\n",
    "- [Conv2D in PyTorch](https://pytorch.org/docs/stable/generated/torch.nn.Conv2d.html)\n",
    "- [ReLU in PyTorch](https://pytorch.org/docs/stable/generated/torch.nn.ReLU.html)\n",
    "- [MaxPool2D in PyTorch](https://pytorch.org/docs/stable/generated/torch.nn.MaxPool2d.html)\n",
    "- [Transpose Conv2D in PyTorch](https://pytorch.org/docs/stable/generated/torch.nn.ConvTranspose2d.html)\n",
    "- [Sigmoid in PyTorch](https://pytorch.org/docs/stable/generated/torch.nn.Sigmoid.html)\n"
   ]
  },
  {
   "cell_type": "code",
   "execution_count": null,
   "id": "9924cfd9-57de-4881-a616-5d19e42484a9",
   "metadata": {
    "deletable": false,
    "editable": true,
    "nbgrader": {
     "cell_type": "code",
     "checksum": "8975a4a5c3c9d51a4eae31266ccc55a3",
     "grade": false,
     "grade_id": "cell-ca2323374647ceea",
     "locked": false,
     "schema_version": 3,
     "solution": true,
     "task": false
    },
    "slideshow": {
     "slide_type": ""
    },
    "tags": []
   },
   "outputs": [],
   "source": [
    "class MiniUNet(nn.Module):\n",
    "    def __init__(self):\n",
    "        super().__init__()\n",
    "        self.enc1 = nn.Sequential(\n",
    "            nn.Conv2d(in_channels = 3, out_channels = 64, kernel_size=3, padding=1),\n",
    "            nn.ReLU(inplace=True)\n",
    "        )\n",
    "        self.pool = nn.MaxPool2d(kernel_size=2, stride=2) # can be reused in the forward as it has no parameters.\n",
    "\n",
    "        self.enc2=None\n",
    "        self.enc3= None\n",
    "        # YOUR CODE HERE\n",
    "        raise NotImplementedError()\n",
    "\n",
    "        \n",
    "        # Decoding path\n",
    "        self.upconv1 = nn.ConvTranspose2d(in_channels = 256, out_channels = 128, kernel_size=2, stride=2)\n",
    "        self.dec1 = nn.Sequential(\n",
    "            nn.Conv2d(in_channels = 256, out_channels = 128, kernel_size=3, padding=1),\n",
    "            nn.ReLU(inplace=True)\n",
    "        )\n",
    "\n",
    "        self.upconv2=None\n",
    "        self.dec2= None\n",
    "        self.dec3=None\n",
    "        \n",
    "        # YOUR CODE HERE\n",
    "        raise NotImplementedError()\n",
    "\n",
    "    def forward(self, x):\n",
    "        \"\"\" \n",
    "        This function implements the forward pass\n",
    "        \n",
    "        Parameters:\n",
    "            x: input images of shape (batch_size, 3, 96, 96)\n",
    "        Returns: \n",
    "            denoised images of shape (batch_size, 3, 96, 96)\n",
    "        \"\"\"\n",
    "        # YOUR CODE HERE\n",
    "        raise NotImplementedError()\n",
    "        "
   ]
  },
  {
   "cell_type": "markdown",
   "id": "dcfaa0bc-e59c-4cbf-9644-eb644a0de54f",
   "metadata": {
    "deletable": false,
    "editable": false,
    "slideshow": {
     "slide_type": ""
    },
    "tags": []
   },
   "source": [
    "**Test the correctness of your model by running the cell below**"
   ]
  },
  {
   "cell_type": "code",
   "execution_count": null,
   "id": "b4643494-e232-42ec-b318-5122b62d277b",
   "metadata": {
    "deletable": false,
    "editable": false,
    "nbgrader": {
     "cell_type": "code",
     "checksum": "4f261ff4d4e154670ded7d7dd1cc38e1",
     "grade": true,
     "grade_id": "cell-6f58eacffcfe4160",
     "locked": true,
     "points": 5,
     "schema_version": 3,
     "solution": false,
     "task": false
    },
    "slideshow": {
     "slide_type": ""
    },
    "tags": []
   },
   "outputs": [],
   "source": [
    "# test the model definition\n",
    "all_tests_successful = True\n",
    "conv2d_count, upconv2d_count=0, 0\n",
    "\n",
    "model = MiniUNet()\n",
    "for layer in model.modules():\n",
    "    if isinstance(layer, nn.Conv2d):\n",
    "        conv2d_count += 1\n",
    "    if isinstance(layer, nn.ConvTranspose2d):\n",
    "        upconv2d_count += 1\n",
    "        \n",
    "dummy_input = torch.randn(1, 3, 96, 96)\n",
    "dummy_output = model(dummy_input)\n",
    "\n",
    "if dummy_output.shape != (1,3,96,96):\n",
    "    all_tests_successful = False\n",
    "    raise AssertionError(f\"Expected output shape(1, 3, 96, 96), instead got {dummy_output.shape}.\")\n",
    "\n",
    "if conv2d_count != 6:\n",
    "    all_tests_successful = False\n",
    "    raise AssertionError(f\"Expected 6 Conv2d layers, got {conv2d_count}.\")\n",
    "    \n",
    "if upconv2d_count != 2:\n",
    "    all_tests_successful = False\n",
    "    raise AssertionError(f\"Expected 2 ConvTranspose2d layers, got {upconv2d_count}.\")\n",
    "\n",
    "if not torch.all((dummy_output >= 0) & (dummy_output <= 1)):\n",
    "    raise AssertionError(\"The output is not within the expected range [0, 1]. Sigmoid might be missing.\")\n",
    "\n",
    "if all_tests_successful: \n",
    "    success_str = \"Good job! All visible tests passed! You can proceed further.\"\n",
    "    print(f\"\\033[92m{success_str}\\033[0m\")"
   ]
  },
  {
   "cell_type": "code",
   "execution_count": null,
   "id": "15515d4a-4ce8-47a4-a605-45bc1d71f3ee",
   "metadata": {
    "deletable": false,
    "editable": false,
    "nbgrader": {
     "cell_type": "code",
     "checksum": "5e2c415e1487a8e070ea762ff436c1f5",
     "grade": true,
     "grade_id": "cell-26be5f64e66b4efd",
     "locked": true,
     "points": 5,
     "schema_version": 3,
     "solution": false,
     "task": false
    },
    "slideshow": {
     "slide_type": ""
    },
    "tags": []
   },
   "outputs": [],
   "source": [
    "# This cell contains hidden test cases that will be evaluated after submission. DO NOT DELETE THE CELL."
   ]
  },
  {
   "cell_type": "markdown",
   "id": "b16cf27f-b258-4ba7-844f-de8a3388d76a",
   "metadata": {
    "deletable": false,
    "editable": false,
    "slideshow": {
     "slide_type": ""
    },
    "tags": []
   },
   "source": [
    "<h3> Task 2: Define the loss function and optimizer. <b> (2 Points) </b></h3>\n",
    "\n",
    "you will implement the `loss_and_optimizer` function, which is essential for training your convolutional neural network (CNN). Follow these guidelines to complete this function:\n",
    "\n",
    "1. **Choose the Loss Function**: \n",
    "   - Since this exercise involves image denoising, the goal is to minimize the difference between the denoised output and the original clean image. \n",
    "   - A common choice for this task is the Mean Squared Error (MSE) loss, which measures the average squared difference between the predicted and target values.\n",
    "   - [Refer: MSE loss in PyTorch](https://pytorch.org/docs/stable/generated/torch.nn.MSELoss.html#torch.nn.MSELoss)\n",
    "\n",
    "2. **Select the Optimizer**: \n",
    "   - An optimizer is used to update the model parameters based on the loss function. \n",
    "   - The Adam optimizer is widely used for its efficiency and effectiveness in handling large datasets and complex models. Initialize the Adam optimizer and set the learning rate to 0.001 to control the step size during optimization.\n",
    "   - [Refer: Adam optimizer in PyTorch](https://pytorch.org/docs/stable/generated/torch.optim.Adam.html#torch.optim.Adam)\n",
    "\n",
    "3. **Return Both Components**: \n",
    "   - Your function should return both the loss criterion and the optimizer.\n"
   ]
  },
  {
   "cell_type": "code",
   "execution_count": null,
   "id": "f42ad50d-75fa-4e41-a760-27fcc5796238",
   "metadata": {
    "deletable": false,
    "editable": true,
    "nbgrader": {
     "cell_type": "code",
     "checksum": "0a06ab7d9e60314a6b773965999f814d",
     "grade": false,
     "grade_id": "cell-bc53f47c80358517",
     "locked": false,
     "schema_version": 3,
     "solution": true,
     "task": false
    },
    "slideshow": {
     "slide_type": ""
    },
    "tags": []
   },
   "outputs": [],
   "source": [
    "def loss_and_optimizer(model):\n",
    "    \"\"\"\n",
    "    This function initializes and returns the loss criterion and optimizer for training a CNN model.\n",
    "\n",
    "    Parameters:\n",
    "    model: The model to be trained.\n",
    "\n",
    "    Returns:\n",
    "    tuple: A tuple containing:\n",
    "        -  The loss function (Mean Squared Error loss).\n",
    "        -  The optimizer (Adam) for updating model parameters.\n",
    "    \"\"\"\n",
    "    \n",
    "    # YOUR CODE HERE\n",
    "    raise NotImplementedError()\n",
    "    "
   ]
  },
  {
   "cell_type": "code",
   "execution_count": null,
   "id": "c1e0f26f-88b5-4c1d-a5fa-0c9b73b33a64",
   "metadata": {
    "deletable": false,
    "editable": false,
    "slideshow": {
     "slide_type": ""
    },
    "tags": []
   },
   "outputs": [],
   "source": [
    "model = MiniUNet()\n",
    "criterion, optimizer = loss_and_optimizer(model)\n",
    "\n",
    "model = model.to(device) \n",
    "criterion = criterion.to(device)"
   ]
  },
  {
   "cell_type": "markdown",
   "id": "e3c6a6f5-1676-4f85-8220-63c0c4f58466",
   "metadata": {
    "deletable": false,
    "editable": false,
    "slideshow": {
     "slide_type": ""
    },
    "tags": []
   },
   "source": [
    "**Test the correctness of your loss_and_optimizer function by running the cell below**"
   ]
  },
  {
   "cell_type": "code",
   "execution_count": null,
   "id": "297a5932-4253-45ca-a423-09f29e1a25b6",
   "metadata": {
    "deletable": false,
    "editable": false,
    "nbgrader": {
     "cell_type": "code",
     "checksum": "5f99633af485b8411c28b8cbab7141c6",
     "grade": true,
     "grade_id": "cell-023a0ac2a7cfb566",
     "locked": true,
     "points": 1,
     "schema_version": 3,
     "solution": false,
     "task": false
    },
    "slideshow": {
     "slide_type": ""
    },
    "tags": []
   },
   "outputs": [],
   "source": [
    "# This cell tests the correctness of loss function and optimizer \n",
    "all_tests_successful = True\n",
    "\n",
    "if not isinstance(criterion, nn.MSELoss):\n",
    "    all_tests_successful = False\n",
    "    raise AssertionError(\"The criterion is not set properly to MSE loss.\")\n",
    "\n",
    "model_params = list(model.parameters())\n",
    "optimizer_params = [param for param_group in optimizer.param_groups for param in param_group['params']]\n",
    "if model_params != optimizer_params:\n",
    "    all_tests_successful = False\n",
    "    raise AssertionError(\"The optimizer does not contain the model parameters\")\n",
    "\n",
    "    \n",
    "if all_tests_successful:\n",
    "    success_str = \"Good job! All visible tests passed!\"\n",
    "    print(f\"\\033[92m{success_str}\\033[0m\")"
   ]
  },
  {
   "cell_type": "code",
   "execution_count": null,
   "id": "c7e41e08-009f-42de-87ce-f2140ff7430d",
   "metadata": {
    "deletable": false,
    "editable": false,
    "nbgrader": {
     "cell_type": "code",
     "checksum": "d28028f9d58bf0e21e76240d6cb31c53",
     "grade": true,
     "grade_id": "cell-b4abc5ca918ae10d",
     "locked": true,
     "points": 1,
     "schema_version": 3,
     "solution": false,
     "task": false
    },
    "slideshow": {
     "slide_type": ""
    },
    "tags": []
   },
   "outputs": [],
   "source": [
    "# This cell contains hidden test cases that will be evaluated after submission"
   ]
  },
  {
   "cell_type": "markdown",
   "id": "f0b8de8b-2011-42c9-b866-172f82bdee41",
   "metadata": {
    "deletable": false,
    "editable": false,
    "slideshow": {
     "slide_type": ""
    },
    "tags": []
   },
   "source": [
    "<h3> Task 3: Training loop. <b>(4 points)</b></h3>\n",
    "\n",
    "In this step, we will implement the training loop for our U-Net model. The training loop is where the model learns from the training data by adjusting its weights based on the loss function.\n",
    "\n",
    "#### Key Components of the Training Loop:\n",
    "\n",
    "- `num_epochs = 10`: This specifies the number of times the entire training dataset will pass through the model. You can adjust this number based on your needs and computational resources.\n",
    "- `model.train()`: Sets the model to training mode, which activates certain layers (like dropout) that are only active during training.\n",
    "- `for epoch in range(num_epochs)`: Iterates over the specified number of epochs.\n",
    "   \n",
    "- `for i, (images, _) in enumerate(tqdm(train_loader, desc=f\"Epoch {epoch+1}/{num_epochs}\"))`: Loops through batches of training data, with a progress bar showing the current epoch and batch.\n",
    "- `noisy_images = add_gaussian_noise(images)`: Applies Gaussian noise to the images to simulate noisy inputs.\n",
    "\n",
    "**Your task is to complete the train function using the guidelines below:**\n",
    "\n",
    "- set the gradients to zero.\n",
    "- pass the input to the model to get the predictions.\n",
    "- calculate the MSE error between the predicted image and the label.\n",
    "- calculate the gradients with respect to the loss.\n",
    "- update the model weights using the optimizer.\n",
    "- append the loss value to the `epoch_loss` list for every iteration.\n",
    "\n",
    "\n"
   ]
  },
  {
   "cell_type": "code",
   "execution_count": null,
   "id": "8ea70f0a-ad69-43f9-998c-4566a1a0121f",
   "metadata": {
    "deletable": false,
    "editable": true,
    "nbgrader": {
     "cell_type": "code",
     "checksum": "6f8fe7df65e1a2aec8f5ce7dbff4c5ca",
     "grade": false,
     "grade_id": "cell-88666b082929cb63",
     "locked": false,
     "schema_version": 3,
     "solution": true,
     "task": false
    },
    "slideshow": {
     "slide_type": ""
    },
    "tags": []
   },
   "outputs": [],
   "source": [
    "# Training loop\n",
    "\n",
    "def train(model, optimizer, criterion, train_loader, num_epochs=10, verbose=True): \n",
    "    \"\"\" \n",
    "    Function to train the model.\n",
    "    \n",
    "    Parameters: \n",
    "    - model: The model to train.\n",
    "    - optimizer: The optimizer for updating model parameters.\n",
    "    - criterion: The loss function to use.\n",
    "    - train_loader: DataLoader for training data.\n",
    "    - num_epochs: Number of training epochs (default is 10).\n",
    "    - verbose: Boolean: print training progress and loss (default is True) \n",
    "    \"\"\"\n",
    "    model.train()\n",
    "    for epoch in range(num_epochs):\n",
    "        epoch_loss = []                                  # Append the loss of every iteration to the epoch loss\n",
    "        for i, (images, _) in enumerate(tqdm(train_loader, desc=f\"Epoch {epoch+1}/{num_epochs}\", disable=not verbose)):\n",
    "            \n",
    "            images = images.to(device)                  # Move the input to 'device' (CPU or GPU)\n",
    "            noisy_images = add_gaussian_noise(images)   # Add Gaussian noise to simulate noisy images\n",
    "    \n",
    "            # YOUR CODE HERE\n",
    "            raise NotImplementedError()\n",
    "\n",
    "        if verbose:\n",
    "            print(f'Epoch [{epoch+1}/{num_epochs}], Loss: {np.mean(epoch_loss):.4f}') "
   ]
  },
  {
   "cell_type": "markdown",
   "id": "fd5ffcd8-d56b-4627-aece-cb01084c970e",
   "metadata": {
    "deletable": false,
    "editable": false,
    "slideshow": {
     "slide_type": ""
    },
    "tags": []
   },
   "source": [
    "**Test the correctness of your train function by running the cell below**"
   ]
  },
  {
   "cell_type": "code",
   "execution_count": null,
   "id": "1741f551-4556-4b19-beda-a850fb9d4066",
   "metadata": {
    "deletable": false,
    "editable": false,
    "nbgrader": {
     "cell_type": "code",
     "checksum": "e99ccbbde0475156439af838fb4ef7f4",
     "grade": true,
     "grade_id": "cell-c3488630716d4aca",
     "locked": true,
     "points": 2,
     "schema_version": 3,
     "solution": false,
     "task": false
    },
    "slideshow": {
     "slide_type": ""
    },
    "tags": []
   },
   "outputs": [],
   "source": [
    "# This cell tests the training code\n",
    "all_tests_successful = True\n",
    "\n",
    "from unittest.mock import patch, MagicMock\n",
    "mock_train_loader = MagicMock()\n",
    "mock_train_loader.__iter__.return_value = [(torch.rand(8, 3, 96, 96), None)]\n",
    "\n",
    "with patch('torch.Tensor.backward') as mock_backward, patch.object(optimizer, 'step') as mock_step:\n",
    "    \n",
    "    train(model, optimizer, criterion, mock_train_loader, num_epochs=1, verbose=False)\n",
    "    \n",
    "    if mock_backward.called:   # check if .backward() was called\n",
    "        pass\n",
    "    else:\n",
    "        all_tests_successful = False\n",
    "        raise AssertionError(\"You forgot to calculate the gradients.\")\n",
    "\n",
    "    if mock_step.called: # check if .step() is used\n",
    "        pass\n",
    "    else:\n",
    "        all_tests_successful = False\n",
    "        raise AssertionError(\"You forgot to update the weights.\")\n",
    "    \n",
    "if all_tests_successful:\n",
    "    success_str = 'Good job! you can now proceed to train your model.'\n",
    "    print(f\"\\033[92m{success_str}\\033[0m\")\n",
    "    "
   ]
  },
  {
   "cell_type": "code",
   "execution_count": null,
   "id": "2970c71f-a1be-4d46-97c9-2a11275db473",
   "metadata": {
    "deletable": false,
    "editable": false,
    "nbgrader": {
     "cell_type": "code",
     "checksum": "35d1bf0e7140c8c00e4f7b5d267774dd",
     "grade": true,
     "grade_id": "cell-47a96a3bb2aa3fe7",
     "locked": true,
     "points": 2,
     "schema_version": 3,
     "solution": false,
     "task": false
    },
    "slideshow": {
     "slide_type": ""
    },
    "tags": []
   },
   "outputs": [],
   "source": [
    "# This cell contains hidden test cases that will be evaluated after submission"
   ]
  },
  {
   "cell_type": "code",
   "execution_count": null,
   "id": "e871d020-d3be-4d50-884b-2cb25d75aa09",
   "metadata": {
    "deletable": false,
    "editable": false,
    "slideshow": {
     "slide_type": ""
    },
    "tags": []
   },
   "outputs": [],
   "source": [
    "num_epochs = 10\n",
    "if not skip_training:\n",
    "    train_loss = train(model, optimizer, criterion, train_loader, num_epochs)\n",
    "    torch.save(model.state_dict(), 'best_model.pth')\n",
    "    print(\"Your trained model is saved successfully!\")\n",
    "else:\n",
    "    model.load_state_dict(torch.load('best_model.pth', map_location=device))\n",
    "    print(\"Loaded weights from your saved model successfully!\")"
   ]
  },
  {
   "cell_type": "markdown",
   "id": "32f8c25f-86f6-44fc-9ffd-0db0d85dee73",
   "metadata": {
    "deletable": false,
    "editable": false,
    "slideshow": {
     "slide_type": ""
    },
    "tags": []
   },
   "source": [
    "<h3>Task 4: Testing Loop. <b> (4 points) </b></h3>\n",
    "In this step, we will evaluate the performance of the trained U-Net model on the test dataset. The testing loop is used to assess how well the model performs on unseen data.\n",
    "\n",
    "#### Key Components of the Testing Loop:\n",
    "\n",
    "- `model.eval()`: Sets the model to evaluation mode. This is important because it deactivates certain layers that behave differently during training (e.g., batch normalization layers, dropout layers).\n",
    "\n",
    "**Your task**:\n",
    "   - Complete the `test` function below using the `train` function as a reference. Think about which steps from the `train` function are necessary and which are not.\n",
    "   - Check PyTorch documentation to figure out if there are any ways to reduce memory consumption during inference."
   ]
  },
  {
   "cell_type": "code",
   "execution_count": null,
   "id": "30413bed-ceea-4b5a-8496-51fde44abf97",
   "metadata": {
    "deletable": false,
    "editable": true,
    "nbgrader": {
     "cell_type": "code",
     "checksum": "4a706cc019976d1d761d7e5c2437da96",
     "grade": false,
     "grade_id": "cell-a7dcabe3249d0fce",
     "locked": false,
     "schema_version": 3,
     "solution": true,
     "task": false
    },
    "slideshow": {
     "slide_type": ""
    },
    "tags": []
   },
   "outputs": [],
   "source": [
    "# Testing loop\n",
    "def test(model, criterion, test_loader):\n",
    "    \"\"\" \n",
    "    Function to test the model.\n",
    "    \n",
    "    Parameters: \n",
    "    - model: The model to test.\n",
    "    - criterion: The loss function to calculate test loss.\n",
    "    - test_loader: DataLoader for testing data.\n",
    "    \"\"\"\n",
    "    model.eval()\n",
    "    test_loss = []\n",
    "    # YOUR CODE HERE\n",
    "    raise NotImplementedError()\n",
    "    return np.mean(test_loss)"
   ]
  },
  {
   "cell_type": "code",
   "execution_count": null,
   "id": "6cedbcce-aa74-4048-8f2f-7a56bbc3cc74",
   "metadata": {
    "deletable": false,
    "editable": false,
    "slideshow": {
     "slide_type": ""
    },
    "tags": []
   },
   "outputs": [],
   "source": [
    "test_loss = test(model, criterion, test_loader)\n",
    "print(f'Test loss: {test_loss:.4f}')"
   ]
  },
  {
   "cell_type": "markdown",
   "id": "d1ab9040-c696-4845-92ec-d509925b5f88",
   "metadata": {
    "deletable": false,
    "editable": false,
    "slideshow": {
     "slide_type": ""
    },
    "tags": []
   },
   "source": [
    "**Test the correctness of your test function by running the cell below**"
   ]
  },
  {
   "cell_type": "code",
   "execution_count": null,
   "id": "5a23d1a2-71cb-4b6f-b45b-7b3bb81909dc",
   "metadata": {
    "deletable": false,
    "editable": false,
    "nbgrader": {
     "cell_type": "code",
     "checksum": "15e9b056f066f14d9cc9089e94f1541c",
     "grade": true,
     "grade_id": "cell-c99ac339d85dadb9",
     "locked": true,
     "points": 2,
     "schema_version": 3,
     "solution": false,
     "task": false
    },
    "slideshow": {
     "slide_type": ""
    },
    "tags": []
   },
   "outputs": [],
   "source": [
    "# This cell contains visible test cases for the 'test' function\n",
    "all_tests_successful = True\n",
    "\n",
    "from unittest.mock import patch, MagicMock\n",
    "mock_test_loader = MagicMock()\n",
    "mock_test_loader.__iter__.return_value = [(torch.rand(8, 3, 96, 96).to(device), None)]\n",
    "\n",
    "if test_loss < 0.002:\n",
    "    pass\n",
    "else:\n",
    "    all_tests_successful = False\n",
    "    raise AssertionError(f\"Expected test loss to be less than 0.002 but got {test_loss}.\" )\n",
    "    \n",
    "with patch('__main__.add_gaussian_noise') as mock_add_noise, patch.object(optimizer, 'zero_grad') as mock_zero_grad, patch.object(optimizer, 'step') as mock_step:\n",
    "    \n",
    "    mock_add_noise.return_value = torch.rand(8,3,96,96).to(device)\n",
    "    _ = test(model, criterion, mock_test_loader)  \n",
    "\n",
    "    if mock_add_noise.called:\n",
    "        pass\n",
    "    else:\n",
    "        all_tests_successful = False\n",
    "        raise AssertionError(\"Did you add noise to the images before passing it to the model?\" )\n",
    "          \n",
    "    if not mock_zero_grad.called and not mock_step.called:  # check is optimizers are not used\n",
    "        pass\n",
    "    else:\n",
    "        all_tests_successful = False\n",
    "        raise AssertionError(\"Think about the purpose of optimizers during inference.\")\n",
    "\n",
    "\n",
    "hidden_test_loader = DataLoader(test_dataset, batch_size=8, shuffle=False)\n",
    "hidden_test_loss = test(model, criterion, hidden_test_loader)\n",
    "\n",
    "if round(hidden_test_loss, 4) == round(test_loss, 4):\n",
    "    pass\n",
    "else:\n",
    "    all_tests_successful = False\n",
    "    print(test_loss, hidden_test_loss)\n",
    "    raise AssertionError(\"Suspicious! Check if test loader was changed.\")\n",
    "    \n",
    "if all_tests_successful:\n",
    "    success_str = 'Great job! You passed all the visible test cases!'\n",
    "    print(f\"\\033[92m{success_str}\\033[0m\")\n"
   ]
  },
  {
   "cell_type": "code",
   "execution_count": null,
   "id": "b91589b5-65ff-4a5d-bf26-6e50b24f618a",
   "metadata": {
    "deletable": false,
    "editable": false,
    "nbgrader": {
     "cell_type": "code",
     "checksum": "b1e01bf1b7fa831f8cdb5caa027e575e",
     "grade": true,
     "grade_id": "cell-417b6be23e2eef3e",
     "locked": true,
     "points": 2,
     "schema_version": 3,
     "solution": false,
     "task": false
    },
    "slideshow": {
     "slide_type": ""
    },
    "tags": []
   },
   "outputs": [],
   "source": [
    "# This cell contains hidden test cases that will be evaluated after submission"
   ]
  },
  {
   "cell_type": "code",
   "execution_count": null,
   "id": "c69854ba-946e-4dfc-88de-b50c81714515",
   "metadata": {
    "deletable": false,
    "editable": false,
    "slideshow": {
     "slide_type": ""
    },
    "tags": []
   },
   "outputs": [],
   "source": [
    "def visualize_results(model, test_loader):\n",
    "    \"\"\"\n",
    "    Function to visualize the denoiser\n",
    "    Parameters:\n",
    "    - model: The model to use for denoising\n",
    "    - test_loader: The DataLoader for testing data\n",
    "    \"\"\"\n",
    "\n",
    "    # get one batch of images\n",
    "    images, _ = next(iter(test_loader))\n",
    "    images = images.to(device)\n",
    "\n",
    "    # Add Gaussian noise\n",
    "    noisy_images = add_gaussian_noise(images)\n",
    "\n",
    "    #Forward pass to get the denoised images\n",
    "    with torch.no_grad():\n",
    "        outputs = model(noisy_images)\n",
    "\n",
    "    # Display original, noisy, and denoised images\n",
    "    fig, axs = plt.subplots(1, 3, figsize=(15, 5))               \n",
    "    axs[0].imshow(np.transpose(images[0].cpu().numpy(), (1, 2, 0)))\n",
    "    axs[0].set_title('Original')\n",
    "    axs[1].imshow(np.transpose(noisy_images[0].cpu().numpy(), (1, 2, 0)))\n",
    "    axs[1].set_title('Noisy')\n",
    "    axs[2].imshow(np.transpose(outputs[0].cpu().numpy(), (1, 2, 0)))\n",
    "    axs[2].set_title('Denoised')\n",
    "    plt.show()\n",
    "    return"
   ]
  },
  {
   "cell_type": "code",
   "execution_count": null,
   "id": "db74b77b-7365-49e9-8be9-2b445a9d947c",
   "metadata": {
    "deletable": false,
    "editable": false,
    "slideshow": {
     "slide_type": ""
    },
    "tags": []
   },
   "outputs": [],
   "source": [
    "# visualize the results. You can run this cell multiple times to see different test images.\n",
    "visualize_results(model, test_loader)"
   ]
  },
  {
   "cell_type": "code",
   "execution_count": null,
   "id": "bec9fbc1-8e7b-439b-9d1d-cd811a50045f",
   "metadata": {
    "deletable": false,
    "editable": false,
    "nbgrader": {
     "cell_type": "code",
     "checksum": "0eb58aa823f242d170a48ea0b0b38c49",
     "grade": true,
     "grade_id": "cell-d4bd97f339656aed",
     "locked": true,
     "points": 0,
     "schema_version": 3,
     "solution": false,
     "task": false
    },
    "slideshow": {
     "slide_type": ""
    },
    "tags": []
   },
   "outputs": [],
   "source": [
    "# Do not delete this cell"
   ]
  }
 ],
 "metadata": {
  "kernelspec": {
   "display_name": "Python 3 (ipykernel)",
   "language": "python",
   "name": "python3"
  },
  "language_info": {
   "codemirror_mode": {
    "name": "ipython",
    "version": 3
   },
   "file_extension": ".py",
   "mimetype": "text/x-python",
   "name": "python",
   "nbconvert_exporter": "python",
   "pygments_lexer": "ipython3",
   "version": "3.8.18"
  }
 },
 "nbformat": 4,
 "nbformat_minor": 5
}
