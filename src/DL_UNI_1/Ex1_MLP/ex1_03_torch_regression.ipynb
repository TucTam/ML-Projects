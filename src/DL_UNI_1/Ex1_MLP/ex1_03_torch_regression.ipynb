{
 "cells": [
  {
   "cell_type": "markdown",
   "id": "19cb5779-7879-4008-9a00-f070dedee380",
   "metadata": {
    "deletable": false,
    "editable": false,
    "nbgrader": {
     "cell_type": "markdown",
     "checksum": "c5a46d8ff933c1a4a9828ac822916967",
     "grade": false,
     "grade_id": "cell-c929245607c8e5b9",
     "locked": true,
     "schema_version": 3,
     "solution": false,
     "task": false
    }
   },
   "source": [
    "**Important! Please do not remove any cells, including the test cells, even if they appear empty. They contain hidden tests, and deleting them could result in a loss of points, as the exercises are graded automatically. Only edit the cells where you are instructed to write your solution.**"
   ]
  },
  {
   "cell_type": "markdown",
   "id": "2a31c0f3",
   "metadata": {
    "deletable": false,
    "editable": false,
    "nbgrader": {
     "cell_type": "markdown",
     "checksum": "1555a7f87ec66d98b3d0b918fa6f943d",
     "grade": false,
     "grade_id": "cell-b74beb62d4b780a0",
     "locked": true,
     "schema_version": 3,
     "solution": false,
     "task": false
    }
   },
   "source": [
    "# Exercise 1\n",
    "\n",
    "## Part 3. Implement and train a multilayer perceptron (MLP) using PyTorch\n",
    "\n",
    "In the final part of this assignment, you will implement and train a **Multilayer Perceptron (MLP)** for a regression problem using PyTorch. \n",
    "\n",
    "### Objective\n",
    "\n",
    "This assignment aims to help you understand the basic concepts and operations involved in building and training neural networks on PyTorch.\n",
    "\n",
    "You will follow the steps below:\n",
    "1. Data Generation: Construction of synthetic dataset for training. No implementation is required for this step, the function is provided.\n",
    "2. MLP Model Construction: Defining MLP architecture with given parameters and implementing forward pass in PyTorch.\n",
    "3. Training the Network: Implementating the training loop including loss calculation, backpropagation, and parameter updates using PyTorch's built-in methods. \n",
    "\n",
    "If you are new to PyTorch, you can review the following [introductory materials](https://pytorch.org/tutorials/beginner/basics/intro.html) to get familiar with it."
   ]
  },
  {
   "cell_type": "markdown",
   "id": "f8215eef-3ca7-4cac-a902-931832c52e43",
   "metadata": {
    "deletable": false,
    "editable": false,
    "nbgrader": {
     "cell_type": "markdown",
     "checksum": "b127b3ed7dbbef53c32ca9ede506f3a9",
     "grade": false,
     "grade_id": "cell-b46031ca671125cc",
     "locked": true,
     "schema_version": 3,
     "solution": false,
     "task": false
    }
   },
   "source": [
    "### Import the necessary libraries"
   ]
  },
  {
   "cell_type": "code",
   "execution_count": null,
   "id": "e228f8f0-73e8-429b-b7b6-f7aaf609fad9",
   "metadata": {
    "deletable": false,
    "editable": false,
    "nbgrader": {
     "cell_type": "code",
     "checksum": "ec931c3e31688c69e56badb8a5a36d39",
     "grade": false,
     "grade_id": "cell-0be2c10fc6c83335",
     "locked": true,
     "schema_version": 3,
     "solution": false,
     "task": false
    }
   },
   "outputs": [],
   "source": [
    "import numpy as np\n",
    "import matplotlib.pyplot as plt\n",
    "import torch\n",
    "import torch.nn as nn\n",
    "import torch.optim as optim"
   ]
  },
  {
   "cell_type": "markdown",
   "id": "bec085da",
   "metadata": {
    "deletable": false,
    "editable": false,
    "nbgrader": {
     "cell_type": "markdown",
     "checksum": "4566d68ff6f99c3a68cdc31b883866b6",
     "grade": false,
     "grade_id": "cell-c83e119e171bca48",
     "locked": true,
     "schema_version": 3,
     "solution": false,
     "task": false
    }
   },
   "source": [
    "### 1. Data Generation\n",
    "\n",
    "In this task, we will work with **2D data** where each data point has two features. While this is a basic example, real-world deep learning applications often deal with higher-dimensional data.\n",
    "\n",
    "We will generate synthetic data based on $y = x_1^2 +  x_2^2 + \\text{noise}$. The added `noise` is used to simulate randomness in the data."
   ]
  },
  {
   "cell_type": "code",
   "execution_count": null,
   "id": "f528d336",
   "metadata": {
    "deletable": false,
    "editable": false,
    "nbgrader": {
     "cell_type": "code",
     "checksum": "64e4299ef55c2bbdde668cd6e485e2d7",
     "grade": false,
     "grade_id": "cell-71e03460eadfae85",
     "locked": true,
     "schema_version": 3,
     "solution": false,
     "task": false
    }
   },
   "outputs": [],
   "source": [
    "def generate_data_2d(num_samples=1000):\n",
    "    # Generate random input data with shape (num_samples, 2)\n",
    "    np.random.seed(4)\n",
    "    x = np.random.randn(num_samples, 2)\n",
    "    noise = np.random.randn(num_samples, 1) * 0.1  # Add small noise\n",
    "    \n",
    "    # Compute the output with the defined pattern\n",
    "    y = np.sum(x**2, axis=1, keepdims=True) + noise\n",
    "\n",
    "    x = torch.FloatTensor(x)\n",
    "    y = torch.FloatTensor(y)\n",
    "\n",
    "    return x, y\n",
    "\n",
    "def display_data(x,y):\n",
    "    fig = plt.figure(figsize=(6,6))\n",
    "    ax = fig.add_subplot(111, projection='3d')\n",
    "    ax.scatter(x[:, 0].numpy(), x[:, 1].numpy(), y[:,0].numpy(), c='b', marker='o')\n",
    "    \n",
    "    ax.set_xlabel('Feature 1 (x1)')\n",
    "    ax.set_ylabel('Feature 2 (x2)')\n",
    "    ax.set_zlabel('Target (y)', labelpad=0)\n",
    "    ax.set_title('3D Plot of Synthetic Data with Two Features')\n",
    "    \n",
    "    plt.show()\n",
    "\n",
    "x, y = generate_data_2d(1000)\n",
    "display_data(x,y)\n",
    "\n",
    "print(f'Shape of the input  x: {x.numpy().shape}')\n",
    "print(f'Shape of the target y: {y.numpy().shape}')"
   ]
  },
  {
   "cell_type": "markdown",
   "id": "62bfc9e0",
   "metadata": {
    "deletable": false,
    "editable": false,
    "nbgrader": {
     "cell_type": "markdown",
     "checksum": "cb61ec9b6f0fd25567dfd0d642290c79",
     "grade": false,
     "grade_id": "cell-3ab082719e2d995a",
     "locked": true,
     "schema_version": 3,
     "solution": false,
     "task": false
    }
   },
   "source": [
    "### 2. MLP Model for Regression\n",
    "\n",
    "In this step, you will define a Multilayer Perceptron (MLP) model. You are provided with a template for the model class. Observe that the model inherits from [nn.Module](https://pytorch.org/docs/stable/generated/torch.nn.Module.html), which is the base class for all the neural networks in PyTorch. The backward pass is handled automatically by PyTorch. Commonly, there is no need to define the backward pass unless you need to customize the gradient flow.\n",
    "\n",
    "##### Steps to follow:\n",
    "1. Initialize the layers: You will define the layers using [nn.Linear](https://pytorch.org/docs/stable/generated/torch.nn.Linear.html) and [nn.ReLU](https://pytorch.org/docs/stable/generated/torch.nn.ReLU.html). The model architecture should have the following structure:\n",
    "    -  Input layer: Takes 2 features.\n",
    "    -  Three hidden layers with 12, 10, and 6 units, respectively. Each layer is followed by a ReLU activation.\n",
    "    -  Output layer: Produces a single output.\n",
    "2. Forward pass: Implement the `forward()` method to define the data flow in the model.\n",
    "\n",
    "\n",
    "\n",
    "##### Hints:\n",
    "- You can simplify the model definition by using [nn.Sequential](https://pytorch.org/docs/stable/generated/torch.nn.Sequential.html). It allows you to group the layers and activation into a sequence.\n"
   ]
  },
  {
   "cell_type": "code",
   "execution_count": null,
   "id": "009ff2f0",
   "metadata": {
    "deletable": false,
    "nbgrader": {
     "cell_type": "code",
     "checksum": "c9868892af7d8442cec17e15923beb73",
     "grade": false,
     "grade_id": "cell-3ffc7811d938ccb1",
     "locked": false,
     "schema_version": 3,
     "solution": true,
     "task": false
    }
   },
   "outputs": [],
   "source": [
    "class MLP(nn.Module):\n",
    "    def __init__(self, in_features=2, hidden_size1=12, hidden_size2=10, hidden_size3=6, out_features=1):\n",
    "        super(MLP, self).__init__()\n",
    "        self.in_features = in_features\n",
    "        self.hidden_size1 = hidden_size1 \n",
    "        self.hidden_size2 = hidden_size2\n",
    "        self.hidden_size3 = hidden_size3\n",
    "        self.out_features = out_features\n",
    "\n",
    "        # YOUR CODE HERE\n",
    "        raise NotImplementedError()\n",
    "    \n",
    "    def forward(self, x):\n",
    "        # YOUR CODE HERE\n",
    "        raise NotImplementedError()"
   ]
  },
  {
   "cell_type": "code",
   "execution_count": null,
   "id": "0198e117-a60a-4b00-83a7-9f94ed4b2b0b",
   "metadata": {
    "deletable": false,
    "editable": false,
    "nbgrader": {
     "cell_type": "code",
     "checksum": "168825af326d5c026c30b33078047e9b",
     "grade": true,
     "grade_id": "cell-9769611741d62d75",
     "locked": true,
     "points": 1,
     "schema_version": 3,
     "solution": false,
     "task": false
    }
   },
   "outputs": [],
   "source": [
    "# This cell checks the number of layers \n",
    "def test_layers():\n",
    "    model = MLP()\n",
    "    relu_count, linear_count = 0, 0\n",
    "    for layer in model.modules():\n",
    "        if isinstance(layer, nn.ReLU):\n",
    "            relu_count += 1\n",
    "        if isinstance(layer, nn.Linear):\n",
    "            linear_count += 1\n",
    "    \n",
    "    assert relu_count > 0, 'At least one ReLU is expected but got 0.'\n",
    "    assert linear_count == 4, f'Expected 4 fully connected layers, but got {linear_count}.'\n",
    "    print('Visible tests passed!')\n",
    "    \n",
    "test_layers()"
   ]
  },
  {
   "cell_type": "code",
   "execution_count": null,
   "id": "56dd41b5-f5a5-47e2-b9e5-05357caf1f4e",
   "metadata": {
    "deletable": false,
    "editable": false,
    "nbgrader": {
     "cell_type": "code",
     "checksum": "8fea673af75619e3ac03dde0dac49aeb",
     "grade": true,
     "grade_id": "cell-9001bddef2ceecd2",
     "locked": true,
     "points": 1,
     "schema_version": 3,
     "solution": false,
     "task": false
    }
   },
   "outputs": [],
   "source": [
    "# This cell contains hidden test cases that will be evaluated after submission"
   ]
  },
  {
   "cell_type": "markdown",
   "id": "078b7ba9",
   "metadata": {
    "deletable": false,
    "editable": false,
    "nbgrader": {
     "cell_type": "markdown",
     "checksum": "ec6038b6eb408b9340b7255e69e20b86",
     "grade": false,
     "grade_id": "cell-18bfa396f1844361",
     "locked": true,
     "schema_version": 3,
     "solution": false,
     "task": false
    }
   },
   "source": [
    "### 3. Train the MLP network\n",
    "\n",
    "In this section, you will implement the training loop for the Multilayer Perceptron.\n",
    "\n",
    "Before diving into the training loop, let us define helper functions that we will use to simplify the workflow and visualize the training mechanism."
   ]
  },
  {
   "cell_type": "code",
   "execution_count": null,
   "id": "7462421d-cc4c-49ea-af8a-83290eb991d8",
   "metadata": {
    "deletable": false,
    "editable": false,
    "nbgrader": {
     "cell_type": "code",
     "checksum": "924bb1f0a363b67b096c95c40e569dcb",
     "grade": false,
     "grade_id": "cell-10c09755ecc558a5",
     "locked": true,
     "schema_version": 3,
     "solution": false,
     "task": false
    }
   },
   "outputs": [],
   "source": [
    "def init_model(learning_rate=0.05):\n",
    "    \"\"\"\n",
    "    Initializes the model, loss function, and optimizer.\n",
    "    \n",
    "    Args:\n",
    "    - learning_rate (float): Learning rate.\n",
    "    \n",
    "    Returns:\n",
    "    - model (MLP): An instance of the MLP model.\n",
    "    - criterion (nn.MSELoss): Mean squared error loss function for regression.\n",
    "    - optimizer (torch.optim.Adam): Adam optimizer for updating model weights.\n",
    "    \n",
    "    Usage:\n",
    "    Call this function before the training starts.\n",
    "    \"\"\"\n",
    "    model = MLP()\n",
    "    criterion = nn.MSELoss()\n",
    "    optimizer = optim.Adam(model.parameters(), lr=learning_rate)\n",
    "    return model, criterion, optimizer\n",
    "\n",
    "# Function to visualize the loss curve after training\n",
    "def plot_loss_curve(losses, epochs):\n",
    "    \"\"\"\n",
    "    Plots the training loss over epochs after the training loop.\n",
    "\n",
    "    Args:\n",
    "    - losses (list): List of loss values for each epoch.\n",
    "    - epochs (int): Total number of epochs.\n",
    "\n",
    "    Usage:\n",
    "    After the training is completed, call this function to visualize how the training loss has changed over time.\n",
    "    \"\"\"\n",
    "    fig, ax = plt.subplots()\n",
    "    ax.plot(range(1, epochs + 1), losses, 'b', label='Training Loss')\n",
    "    ax.grid(True)\n",
    "    ax.set_title('Training Loss Curve')\n",
    "    ax.set_xlabel('Epoch')\n",
    "    ax.set_ylabel('Loss')\n",
    "    plt.legend()\n",
    "    plt.show()"
   ]
  },
  {
   "cell_type": "markdown",
   "id": "54ffcab7-cd87-4590-a811-c58c8be2e9f2",
   "metadata": {
    "deletable": false,
    "editable": false,
    "nbgrader": {
     "cell_type": "markdown",
     "checksum": "deba1f48845633128923339a14c1a96b",
     "grade": false,
     "grade_id": "cell-cccecb9a25bf07fd",
     "locked": true,
     "schema_version": 3,
     "solution": false,
     "task": false
    },
    "slideshow": {
     "slide_type": ""
    },
    "tags": []
   },
   "source": [
    "The model, loss function, and optimizer are instantiated (`init_model`) outside of the training loop. You will now implement the training loop.\n",
    "\n",
    "##### Steps to follow for each iteration (epoch):\n",
    "\n",
    "1. Set all gradients to zero: Use optimizer's `zero_grad()` method  to prevent gradient accumulation from previous iterations.\n",
    "2. Perform the forward pass: Pass the input through the model (you do not have to explicitly call the `forward()` method as PyTorch already handles this.)\n",
    "3. Compute the loss (see [nn.MSELoss](https://pytorch.org/docs/stable/generated/torch.nn.MSELoss.html)).\n",
    "4. Backpropagate **the loss** (see [backward](https://pytorch.org/docs/stable/generated/torch.autograd.backward.html)).\n",
    "5. Update the parameters: Use the optimizer's `step()` method.\n",
    "6. Store the **numerical** loss values after each iteration to visualize the loss curve at the end of the training.\n",
    "  \n",
    "##### Recommended parameters:\n",
    "1. You **must** use Mean Squared Error (MSE) as the loss function (see [nn.MSELoss](https://pytorch.org/docs/stable/generated/torch.nn.MSELoss.html)) and the Adam optimizer (see [optim.Adam](https://pytorch.org/docs/stable/generated/torch.optim.Adam.html)).\n",
    "2. A recommended learning rate is 0.05.\n",
    "3. Set the number of epochs to at least 100 for the model to converge.\n",
    "\n",
    "\n",
    "##### Important notes:\n",
    "- For simplicity, use all the training data to compute the gradients in each iteration (this is called full-batch training).\n",
    "- Try running your model without calling zero_grad() and **observe the effect of gradient accumulation** on the loss curve. \n",
    "- When storing the loss values ensure that you save the numerical value, not the tensor itself.\n",
    "- You can experiment with the model parameters (such as learning rate and the number of epochs) but you must use the provided x and y values as the data. "
   ]
  },
  {
   "cell_type": "code",
   "execution_count": null,
   "id": "93da9a08",
   "metadata": {
    "deletable": false,
    "nbgrader": {
     "cell_type": "code",
     "checksum": "1f66e1432459dbca12f22b237cfeae7f",
     "grade": false,
     "grade_id": "cell-8ce61a1fbb5c4cd8",
     "locked": false,
     "schema_version": 3,
     "solution": true,
     "task": false
    }
   },
   "outputs": [],
   "source": [
    "def train_mlp(model, criterion, optimizer, x, y, epochs=200):\n",
    "    losses = []\n",
    "    for epoch in range(epochs):\n",
    "        # YOUR CODE HERE\n",
    "        raise NotImplementedError()\n",
    "\n",
    "    return losses  # Return to visualize the learning curve"
   ]
  },
  {
   "cell_type": "code",
   "execution_count": null,
   "id": "9adc4b45-d85a-4257-be4c-887c93184629",
   "metadata": {
    "deletable": false,
    "editable": false,
    "nbgrader": {
     "cell_type": "code",
     "checksum": "b03584ec804a7db46052c05a6f10df8b",
     "grade": true,
     "grade_id": "cell-8ced7efce4a1e4eb",
     "locked": true,
     "points": 1,
     "schema_version": 3,
     "solution": false,
     "task": false
    }
   },
   "outputs": [],
   "source": [
    "# This cell tests the training code\n",
    "from unittest.mock import patch\n",
    "def test_train_calls():\n",
    "    model, criterion, optimizer = init_model(0.05)\n",
    "    with patch('torch.Tensor.backward') as mock_backward, patch.object(optimizer, 'step') as mock_step:\n",
    "        train_mlp(model, criterion, optimizer, x, y, epochs=10)\n",
    "        try:\n",
    "            assert mock_backward.called, 'You forgot to calculate the gradients.'\n",
    "        except AssertionError as e:\n",
    "            raise\n",
    "        try:\n",
    "            assert mock_step.called, 'You forgot to update the weights.'\n",
    "        except AssertionError as e:\n",
    "            raise\n",
    "    \n",
    "        print('Visible test passed.')\n",
    "test_train_calls()"
   ]
  },
  {
   "cell_type": "code",
   "execution_count": null,
   "id": "6c8591a8-706b-4685-b7f0-743b63b41062",
   "metadata": {
    "deletable": false,
    "editable": false,
    "nbgrader": {
     "cell_type": "code",
     "checksum": "5b0cb3cd927ed78c8629d7585033654a",
     "grade": false,
     "grade_id": "cell-fc390a53e95bca72",
     "locked": true,
     "schema_version": 3,
     "solution": false,
     "task": false
    }
   },
   "outputs": [],
   "source": [
    "x, y = generate_data_2d(1000) # DO NOT OVERWRITE THIS"
   ]
  },
  {
   "cell_type": "code",
   "execution_count": null,
   "id": "ccafaf3b-aca4-4dde-8695-b0fbb4e075bb",
   "metadata": {
    "deletable": false,
    "nbgrader": {
     "cell_type": "code",
     "checksum": "979d180869db59bc1540d64a030d82ae",
     "grade": false,
     "grade_id": "cell-d41f6738afd2d261",
     "locked": false,
     "schema_version": 3,
     "solution": true,
     "task": false
    }
   },
   "outputs": [],
   "source": [
    "# Using recommended parameters to train the model (you can modify these as desired)\n",
    "# You are not expected to implement anything\n",
    "# To continue using the default parameters, remove raise NotImplementedError()\n",
    "# YOUR CODE HERE\n",
    "raise NotImplementedError()\n",
    "num_epochs = 200\n",
    "learning_rate = 0.05"
   ]
  },
  {
   "cell_type": "code",
   "execution_count": null,
   "id": "47b8e2a2-d8f9-4c0f-85f3-db5e3e6ed170",
   "metadata": {
    "deletable": false,
    "editable": false,
    "nbgrader": {
     "cell_type": "code",
     "checksum": "b7a4ae0d9544f97bc2ffda595f15cce0",
     "grade": false,
     "grade_id": "cell-617d2e93950c83ad",
     "locked": true,
     "schema_version": 3,
     "solution": false,
     "task": false
    }
   },
   "outputs": [],
   "source": [
    "# Initialize the model, criterion, and optimizer\n",
    "model, criterion, optimizer = init_model(learning_rate)\n",
    "losses = train_mlp(model, criterion, optimizer, x, y, epochs=num_epochs)\n",
    "plot_loss_curve(losses, len(losses))"
   ]
  },
  {
   "cell_type": "code",
   "execution_count": null,
   "id": "357ed325",
   "metadata": {
    "deletable": false,
    "editable": false,
    "nbgrader": {
     "cell_type": "code",
     "checksum": "331815e1e363d9c2560524157aab0e14",
     "grade": true,
     "grade_id": "cell-9a0d1f29b57beb90",
     "locked": true,
     "points": 0,
     "schema_version": 3,
     "solution": false,
     "task": false
    }
   },
   "outputs": [],
   "source": [
    "# Test cell\n",
    "# Ensure your model achieves a low loss and the plot matches expected outputs.\n",
    "final_loss = losses[-1]\n",
    "assert final_loss < 0.25, f'Loss is too high, got {final_loss}, check your implementation.'"
   ]
  },
  {
   "cell_type": "code",
   "execution_count": null,
   "id": "e7ab161a-00ff-4a60-8f2a-b1abdcbff98d",
   "metadata": {
    "deletable": false,
    "editable": false,
    "nbgrader": {
     "cell_type": "code",
     "checksum": "3a06cc58ba35a528c145b73d80bacac8",
     "grade": true,
     "grade_id": "cell-a64a178c1840c6e5",
     "locked": true,
     "points": 1,
     "schema_version": 3,
     "solution": false,
     "task": false
    }
   },
   "outputs": [],
   "source": [
    "# This cell contains hidden test cases that will be evaluated after submission"
   ]
  },
  {
   "cell_type": "code",
   "execution_count": null,
   "id": "bacec3dd-cc2f-409d-b36c-6ed1411a4f02",
   "metadata": {
    "deletable": false,
    "editable": false,
    "nbgrader": {
     "cell_type": "code",
     "checksum": "60281fcdc29d77d7f75151cccc9d35df",
     "grade": true,
     "grade_id": "cell-7824bdcc6d6eda6a",
     "locked": true,
     "points": 0,
     "schema_version": 3,
     "solution": false,
     "task": false
    }
   },
   "outputs": [],
   "source": [
    "# Do not delete this cell"
   ]
  }
 ],
 "metadata": {
  "kernelspec": {
   "display_name": "Python 3 (ipykernel)",
   "language": "python",
   "name": "python3"
  },
  "language_info": {
   "codemirror_mode": {
    "name": "ipython",
    "version": 3
   },
   "file_extension": ".py",
   "mimetype": "text/x-python",
   "name": "python",
   "nbconvert_exporter": "python",
   "pygments_lexer": "ipython3",
   "version": "3.11.10"
  }
 },
 "nbformat": 4,
 "nbformat_minor": 5
}
