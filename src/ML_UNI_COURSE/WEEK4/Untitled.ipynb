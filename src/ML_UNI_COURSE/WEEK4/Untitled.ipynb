{
 "cells": [
  {
   "cell_type": "code",
   "execution_count": 48,
   "id": "8c91a654-c75a-4c84-be7f-f8bf4c29b0bf",
   "metadata": {},
   "outputs": [],
   "source": [
    "import matplotlib.pyplot as plt\n",
    "import tensorflow as tf\n",
    "from random import random\n",
    "import numpy as np\n",
    "import pandas as pd\n"
   ]
  },
  {
   "cell_type": "code",
   "execution_count": 49,
   "id": "b2775bfe-cdcf-4105-b4e3-3fb7024271d1",
   "metadata": {},
   "outputs": [],
   "source": [
    "def class_acc(pred,gt):\n",
    "    TP = np.sum([pred == gt])\n",
    "    acc = TP / len(pred)\n",
    "    return acc"
   ]
  },
  {
   "cell_type": "code",
   "execution_count": 50,
   "id": "a804427c-6102-402f-9ac2-ebb5da5ae8a1",
   "metadata": {},
   "outputs": [],
   "source": [
    "mnist_data = tf.keras.datasets.fashion_mnist"
   ]
  },
  {
   "cell_type": "code",
   "execution_count": 51,
   "id": "34344173-4d9f-4fb6-9e27-7e85f400ea1f",
   "metadata": {},
   "outputs": [],
   "source": [
    "(x_train, y_train), (x_test, y_test) = mnist_data.load_data()"
   ]
  },
  {
   "cell_type": "code",
   "execution_count": 52,
   "id": "04f4e820-e861-4c57-9cd8-0017bf04fed0",
   "metadata": {},
   "outputs": [],
   "source": [
    "train_noise = np.random.normal(loc=0.0,scale=0.1,size=x_train.shape)\n",
    "x_train = x_train.reshape(-1,28*28) + train_noise.reshape(-1,28*28)\n",
    "\n",
    "test_noise = np.random.normal(loc=0.0,scale=0.1,size=x_test.shape)\n",
    "x_test = x_test.reshape(-1, 28*28) + test_noise.reshape(-1,28*28)"
   ]
  },
  {
   "cell_type": "code",
   "execution_count": 53,
   "id": "0d93db57-89ac-49d8-9c9e-f590036aefc2",
   "metadata": {},
   "outputs": [],
   "source": [
    "from scipy.stats import multivariate_normal\n",
    "def mean_cov_class(train = x_train, label = y_train):\n",
    "    mean_vec = []\n",
    "    cov_vec = []\n",
    "    for i in range(0,10):\n",
    "        condition = label == i\n",
    "        mean, cov = multivariate_normal.fit(x_train[condition,:])\n",
    "        mean_vec.append(mean)\n",
    "        cov_vec.append(cov)\n",
    "    return mean_vec, cov_vec\n"
   ]
  },
  {
   "cell_type": "code",
   "execution_count": 54,
   "id": "db4bc80e-8322-4001-8d25-4ff16c14fc09",
   "metadata": {},
   "outputs": [
    {
     "data": {
      "text/plain": [
       "((10, 784, 784), (10, 784))"
      ]
     },
     "execution_count": 54,
     "metadata": {},
     "output_type": "execute_result"
    }
   ],
   "source": [
    "mean_class, cov_class = mean_cov_class(x_train, y_train)\n",
    "mean_class, cov_class = np.asarray(mean_class), np.asarray(cov_class)\n",
    "np.shape(cov_class), np.shape(mean_class)"
   ]
  },
  {
   "cell_type": "code",
   "execution_count": 55,
   "id": "42f9a0c0-800e-49ef-af74-c0f03cef9f06",
   "metadata": {},
   "outputs": [],
   "source": [
    "def MAP(test, mean, var):\n",
    "    likelihoods = np.zeros((10, 10000))\n",
    "    for k in range(0, 10):    \n",
    "        likelihoods[k,:] = (multivariate_normal.logpdf(test, mean[k], var[k]))\n",
    "    \n",
    "    return np.argmax(likelihoods, axis=0)\n"
   ]
  },
  {
   "cell_type": "code",
   "execution_count": 56,
   "id": "44cff24f-ba06-439f-bd49-dbb5e48691b0",
   "metadata": {},
   "outputs": [],
   "source": [
    "predictions = MAP(x_test, mean_class, cov_class)\n"
   ]
  },
  {
   "cell_type": "code",
   "execution_count": 57,
   "id": "db0c05c9-d46b-4503-90b3-de14c7acc344",
   "metadata": {},
   "outputs": [
    {
     "name": "stdout",
     "output_type": "stream",
     "text": [
      "Classification accuracy is 0.6746\n"
     ]
    }
   ],
   "source": [
    "accuracy = class_acc(predictions,y_test)\n",
    "print(f\"Classification accuracy is {accuracy}\")"
   ]
  },
  {
   "cell_type": "code",
   "execution_count": 58,
   "id": "cc883ee6-3d28-4c24-887e-d002c8599a5e",
   "metadata": {},
   "outputs": [
    {
     "data": {
      "text/plain": [
       "(2, 2)"
      ]
     },
     "execution_count": 58,
     "metadata": {},
     "output_type": "execute_result"
    }
   ],
   "source": [
    "predictions[1], y_test[1]"
   ]
  },
  {
   "cell_type": "code",
   "execution_count": null,
   "id": "1661f8ba-e29d-4e8d-82cf-1cf409bebce9",
   "metadata": {},
   "outputs": [],
   "source": []
  }
 ],
 "metadata": {
  "kernelspec": {
   "display_name": "Python 3 (ipykernel)",
   "language": "python",
   "name": "python3"
  },
  "language_info": {
   "codemirror_mode": {
    "name": "ipython",
    "version": 3
   },
   "file_extension": ".py",
   "mimetype": "text/x-python",
   "name": "python",
   "nbconvert_exporter": "python",
   "pygments_lexer": "ipython3",
   "version": "3.12.4"
  }
 },
 "nbformat": 4,
 "nbformat_minor": 5
}
