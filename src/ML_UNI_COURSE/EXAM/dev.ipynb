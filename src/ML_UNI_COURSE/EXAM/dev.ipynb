{
 "cells": [
  {
   "cell_type": "code",
   "execution_count": 2,
   "metadata": {},
   "outputs": [],
   "source": [
    "import pandas as pd\n",
    "import numpy as np\n",
    "import matplotlib.pyplot as plt\n"
   ]
  },
  {
   "cell_type": "code",
   "execution_count": 5,
   "metadata": {},
   "outputs": [],
   "source": [
    "data = np.loadtxt(\"train.dat\", encoding=\"utf8\")"
   ]
  },
  {
   "cell_type": "code",
   "execution_count": 7,
   "metadata": {},
   "outputs": [
    {
     "name": "stdout",
     "output_type": "stream",
     "text": [
      "Out of 716 passengers 268 (37.43%) survived and 448 (62.57%) died.\n"
     ]
    }
   ],
   "source": [
    "n_passengers = len(data)\n",
    "n_survived = len(data[data[:, 1] == 1])\n",
    "n_dead = len(data[data[:, 1] == 0])\n",
    "print(f\"Out of {n_passengers} passengers {n_survived} ({n_survived/n_passengers*100:.2f}%) survived and {n_dead} ({n_dead/n_passengers*100:.2f}%) died.\")"
   ]
  },
  {
   "cell_type": "code",
   "execution_count": 11,
   "metadata": {},
   "outputs": [
    {
     "data": {
      "text/plain": [
       "array([  7.25,  71.28,   7.92,  53.1 ,   8.05,   8.46,  11.13,  16.7 ,\n",
       "        26.55,   8.05,   7.85,  16.  ,  18.  ,   7.22,  26.  ,  13.  ,\n",
       "         8.03,  21.07,  31.39,   7.9 ,  27.72,   7.75,  10.5 ,  52.  ,\n",
       "         7.23,   8.05,  18.  ,  11.24,   9.47,  21.  ,   7.9 ,  41.58,\n",
       "         7.88,   8.05,  15.5 ,   7.75,  21.68,  17.8 ,  39.69,   7.8 ,\n",
       "        76.73,  26.  ,   7.23,  27.75,  46.9 ,   7.23,  80.  ,  83.47,\n",
       "        27.9 ,  27.72,  15.25,  10.5 ,   8.16,   7.92,  10.5 ,  46.9 ,\n",
       "        14.45,  56.5 ,   7.65,   8.05,  29.  ,  12.47,   9.  ,   9.5 ,\n",
       "         7.79,  47.1 ,  10.5 ,  15.85,  34.38,   8.05, 263.  ,   8.05,\n",
       "         8.05,   7.85,  61.17,  20.57,   7.25,   8.05,  34.65,  63.36,\n",
       "        23.  ,  26.  ,   7.9 ,   7.9 ,  77.29,   8.65,   7.92,   7.9 ,\n",
       "         7.65,   7.78,   7.9 ,  24.15,  52.  ,  14.45,   8.05,   9.82,\n",
       "         7.92,   7.75,  21.  , 247.52,  31.27,  73.5 ,   8.05,  30.07,\n",
       "        13.  ,  77.29,  11.24,   7.75,   7.14,  22.36,   7.9 ,   7.05,\n",
       "        14.5 ,  13.  ,  15.05,  26.28,  53.1 ,   9.22,  79.2 ,  15.25,\n",
       "         7.75,  15.85,   6.75,  11.5 ,   7.8 ,  34.38,  66.6 ,   8.05,\n",
       "        14.5 ,   7.31,  61.38,   7.73,   8.05,   8.66,  69.55,  16.1 ,\n",
       "        15.75,  20.52,  25.93,  56.5 ,  33.5 ,  29.12,  11.13,   7.92,\n",
       "        30.7 ,   7.85,  25.47,  28.71,   0.  ,  69.55,  15.05,  31.39,\n",
       "        39.  ,  22.02,  50.  ,  15.5 ,  26.55,  15.5 ,   7.9 ,  13.  ,\n",
       "        13.  ,   7.85,  26.  ,  27.72, 146.52,   7.75,   8.4 ,   7.75,\n",
       "        13.  ,   6.5 ,   7.22,  10.46,  15.85,  18.79,   7.75,  31.  ,\n",
       "         7.05,  21.  ,  13.  , 113.28,   7.92,  27.  ,  76.29,  10.5 ,\n",
       "         8.05,  13.  ,   8.05,   7.9 ,   9.35,  10.5 ,  13.  ,  83.47,\n",
       "         7.78,  13.5 ,  31.39,  10.5 ,  26.  ,  10.5 ,  12.28,  14.45,\n",
       "        15.5 ,  10.5 ,   7.22,  90.  ,   7.78,  26.  ,  10.46,  26.55,\n",
       "        16.1 ,  20.21,  15.25,  79.2 ,  86.5 , 512.33,  26.  ,   7.75,\n",
       "        31.39,  79.65,   0.  ,   7.75,   7.78, 153.46, 135.63,  31.  ,\n",
       "         0.  ,  29.7 ,   7.75,  77.96,   7.75,   0.  ,   7.75,   7.85,\n",
       "         9.5 ,   8.05,  26.  ,   8.66,   7.9 ,   7.75,  78.85,  91.08,\n",
       "        12.88,   8.85,   7.9 ,  27.72,   7.23, 151.55,  30.5 , 247.52,\n",
       "         7.75,  23.25,   0.  , 151.55, 110.88, 108.9 ,  24.  ,  26.  ,\n",
       "         7.9 ,   7.85,  26.  , 164.87, 134.5 ,   7.25,   7.9 ,  29.  ,\n",
       "       135.63,   6.24,  13.  ,  57.98,  23.25,  28.5 ,  18.  , 133.65,\n",
       "         7.9 ,  66.6 , 134.5 ,   8.05,  35.5 ,  26.  , 263.  ,  13.  ,\n",
       "        13.  ,  13.  ,  13.  ,  13.  ,  16.1 ,  15.9 ,   8.66,   9.22,\n",
       "        35.  ,  17.8 ,   7.22,  55.  ,  13.  ,   7.88,  27.9 ,  27.72,\n",
       "        14.45,   7.05,  15.5 ,   7.25,  75.25,   7.23,  55.44,   6.5 ,\n",
       "         8.05, 135.63,  21.07,  82.17,   7.25, 211.5 ,   4.01, 227.53,\n",
       "        15.74,   7.92,  52.  ,   7.9 ,  73.5 ,  46.9 ,  13.  ,  12.  ,\n",
       "       120.  ,   7.8 ,   7.92, 113.28,  16.7 ,   7.8 ,   7.85,  26.  ,\n",
       "        10.5 ,   7.92,   8.05,  15.85,   8.66,  21.  ,  18.75,   7.78,\n",
       "         7.9 ,   6.86,   0.  ,   7.92,  13.  ,  13.  ,  24.15,   7.9 ,\n",
       "         7.73,  20.21,  26.  ,   7.75,  26.55,  16.1 ,  26.  ,   7.12,\n",
       "        55.9 , 120.  ,  34.38,  18.75, 263.  ,  10.5 ,  26.25,   9.5 ,\n",
       "        13.  ,  81.86,  19.5 ,  26.55,  19.26,  30.5 ,  27.75,  19.97,\n",
       "         8.05,   7.9 ,  51.86,   7.75,  26.55,   8.05,  38.5 ,  13.  ,\n",
       "         8.05,   7.05,   0.  ,   7.72,   7.25,   8.66,  27.75,  13.79,\n",
       "         9.84,  52.  ,  21.  ,   7.05,   7.52,  46.9 ,   0.  ,   8.05,\n",
       "         9.59,  91.08,  25.47,  90.  ,  29.7 ,   8.05,  15.9 ,  19.97,\n",
       "         7.25,  30.5 ,  49.5 ,   8.05,  14.46,  78.27,  15.1 , 151.55,\n",
       "         7.8 ,   8.66,   7.75,   7.63,   9.59,  86.5 , 108.9 ,  26.  ,\n",
       "        22.52,  56.5 ,   7.75,   8.05,  26.29,  59.4 ,   7.5 ,  34.02,\n",
       "        24.15,  26.  ,   7.9 ,   7.9 ,   7.22,   7.75, 221.78,  11.5 ,\n",
       "         7.23,   7.23,  22.36,   8.66,  26.25, 106.42,  14.5 ,  71.  ,\n",
       "        31.27,  31.27, 106.42,  26.  ,  13.86,  36.75, 110.88,  26.  ,\n",
       "         7.78,  39.6 , 227.53,  17.4 ,   7.75,   7.9 ,  13.5 ,   8.05,\n",
       "        24.15,   7.9 ,  21.07,   7.23,   7.85,  51.48,  26.39,   7.75,\n",
       "         8.05,  14.5 ,  13.  ,  55.9 ,  14.46,  30.  , 110.88,  40.12,\n",
       "         8.71,  79.65,  15.  ,  79.2 ,   8.05,   8.05,   7.12,   7.25,\n",
       "         7.75,  24.15,  33.  ,   0.  ,   7.22,  56.93,  27.  ,   7.9 ,\n",
       "        42.4 ,   8.05,  26.55,  15.55,   7.9 ,  30.5 ,  41.58,  31.27,\n",
       "         7.05,  15.5 ,  16.1 ,  39.  ,  10.5 ,  14.45,  52.55,  32.32,\n",
       "        12.35,   7.73,  30.  ,   7.05,  30.5 ,  27.9 ,  13.  ,  26.25,\n",
       "        16.1 ,   7.85,  69.3 ,  27.9 ,  56.5 ,  19.26,  76.73,   7.9 ,\n",
       "        35.5 ,   7.9 ,  23.  ,   8.43,   7.83,   6.75,  73.5 ,   7.9 ,\n",
       "        15.5 ,  13.  , 113.28, 133.65,  25.59,   7.5 ,  73.5 ,  13.  ,\n",
       "         7.78,   8.05,  52.  ,  39.  ,  52.  ,  10.5 ,  13.  ,   0.  ,\n",
       "         8.05,   9.84,  46.9 , 512.33,  76.73,   9.22,  39.  ,  39.69,\n",
       "        10.17,   7.8 , 211.34,  57.  ,  56.5 ,  26.55,  13.5 ,   8.05,\n",
       "         7.73, 110.88,   7.65,  26.29,  14.45,   7.74,   7.85,  26.  ,\n",
       "        13.5 ,  26.29, 151.55,  49.5 ,  26.55,   9.48,   7.65,  10.5 ,\n",
       "        15.5 ,   7.78,   7.05,  13.  ,  13.  ,  53.1 ,   8.66,   7.74,\n",
       "         7.92, 211.34,  18.79,   0.  ,  13.  , 512.33,   7.9 ,  30.  ,\n",
       "        78.85, 262.38,  16.1 ,   7.92,  71.  ,  20.25,  53.1 ,   7.75,\n",
       "        23.  ,   9.5 ,   7.9 ,  65.  ,  14.5 ,   7.8 ,  11.5 ,   8.05,\n",
       "        86.5 ,  14.5 ,   7.12,   7.23, 120.  ,   7.78,  77.96,   7.75,\n",
       "        24.15,   8.36,   9.5 ,   7.85,  10.5 ,   7.22,  23.  ,   7.75,\n",
       "        12.47, 211.34,   7.23,  30.  ,   7.05,   7.25,   7.5 ,  29.12,\n",
       "        20.57,  79.2 ,   7.75,  69.55,   7.9 ,  25.93,   8.68,  24.15,\n",
       "        13.  ,  26.25, 120.  ,   8.52,   7.78,   0.  ,   7.78,  13.  ,\n",
       "        53.1 ,   7.89,  24.15,  10.5 ,  31.27,   8.05,   0.  ,   7.92,\n",
       "        27.9 ,  93.5 ,   0.  ,  12.47,  39.69,   6.95,  56.5 ,   7.75,\n",
       "        14.45,  18.75,   7.23,   7.85,   8.3 ,  83.16,   8.66,   8.05,\n",
       "        56.5 ,  29.7 ,   7.92,  10.5 ,  31.  ,   8.66,  69.55,   7.9 ,\n",
       "        33.  ,  89.1 ,  31.27,   7.78,  15.25,  39.4 ,  26.  ,   9.35,\n",
       "       164.87,  26.55,  14.11,  11.5 ,  25.93,  69.55,  13.86,  50.5 ,\n",
       "         9.5 ,  11.13,   7.9 ,  52.55,   5.  ,   9.  ,  24.  ,   9.85,\n",
       "         7.9 ,  83.16,  26.  ,   7.9 ,  10.52,  10.5 ,   7.05,  29.12,\n",
       "        13.  ,  30.  ,  30.  ,   7.75])"
      ]
     },
     "execution_count": 11,
     "metadata": {},
     "output_type": "execute_result"
    }
   ],
   "source": [
    "data[:,-1]"
   ]
  },
  {
   "cell_type": "code",
   "execution_count": 15,
   "metadata": {},
   "outputs": [
    {
     "data": {
      "text/plain": [
       "array([False,  True])"
      ]
     },
     "execution_count": 15,
     "metadata": {},
     "output_type": "execute_result"
    }
   ],
   "source": [
    "malecond = np.intersect1d(data[:, 1] == 1, data[:,2] == 0)\n",
    "malecond"
   ]
  },
  {
   "cell_type": "code",
   "execution_count": 16,
   "metadata": {},
   "outputs": [
    {
     "data": {
      "text/plain": [
       "array([ True, False, False, False,  True,  True, False, False, False,\n",
       "        True, False, False, False, False,  True,  True, False, False,\n",
       "       False,  True,  True, False,  True,  True,  True,  True, False,\n",
       "       False, False, False,  True, False, False,  True,  True, False,\n",
       "        True, False,  True,  True, False, False,  True, False,  True,\n",
       "        True, False,  True,  True,  True,  True, False,  True, False,\n",
       "        True, False,  True,  True,  True,  True,  True, False,  True,\n",
       "        True, False,  True, False, False,  True,  True, False,  True,\n",
       "        True,  True,  True,  True,  True,  True,  True,  True, False,\n",
       "        True, False,  True,  True,  True,  True,  True, False,  True,\n",
       "        True, False,  True, False,  True, False,  True,  True,  True,\n",
       "        True, False,  True,  True,  True, False,  True,  True,  True,\n",
       "        True, False,  True,  True, False,  True,  True, False,  True,\n",
       "        True,  True, False, False, False,  True,  True,  True, False,\n",
       "       False,  True,  True,  True,  True, False,  True,  True,  True,\n",
       "        True, False,  True,  True,  True,  True,  True, False,  True,\n",
       "        True,  True,  True, False,  True, False,  True,  True,  True,\n",
       "       False,  True, False,  True,  True,  True, False,  True, False,\n",
       "        True, False, False,  True,  True, False, False,  True,  True,\n",
       "       False,  True,  True, False,  True,  True, False,  True, False,\n",
       "       False,  True, False,  True,  True,  True,  True,  True,  True,\n",
       "        True,  True, False,  True,  True, False,  True,  True,  True,\n",
       "        True, False, False,  True,  True,  True, False,  True, False,\n",
       "        True,  True, False, False, False, False, False, False,  True,\n",
       "        True,  True,  True, False,  True, False, False,  True,  True,\n",
       "        True, False, False, False,  True,  True,  True,  True,  True,\n",
       "        True,  True,  True, False, False, False,  True, False,  True,\n",
       "        True,  True, False,  True, False, False,  True,  True,  True,\n",
       "       False, False,  True, False,  True, False, False, False, False,\n",
       "        True,  True, False, False,  True, False, False, False,  True,\n",
       "        True, False,  True,  True, False,  True,  True,  True, False,\n",
       "        True,  True,  True, False, False, False,  True,  True,  True,\n",
       "        True,  True,  True, False, False, False,  True,  True, False,\n",
       "        True,  True,  True, False, False,  True,  True,  True,  True,\n",
       "       False, False, False,  True,  True, False, False,  True, False,\n",
       "        True,  True,  True, False, False,  True,  True,  True, False,\n",
       "       False,  True, False,  True,  True,  True,  True,  True, False,\n",
       "        True,  True,  True,  True,  True,  True,  True, False,  True,\n",
       "       False,  True,  True,  True, False,  True,  True, False, False,\n",
       "        True,  True, False, False, False,  True,  True, False,  True,\n",
       "       False,  True, False,  True, False,  True,  True,  True,  True,\n",
       "        True, False,  True,  True,  True,  True,  True,  True,  True,\n",
       "        True,  True,  True,  True, False, False, False,  True,  True,\n",
       "        True,  True,  True,  True,  True, False,  True, False, False,\n",
       "        True,  True,  True,  True,  True,  True,  True,  True,  True,\n",
       "       False,  True, False,  True,  True, False, False, False, False,\n",
       "        True, False,  True,  True,  True,  True,  True, False,  True,\n",
       "        True,  True, False,  True,  True,  True,  True,  True,  True,\n",
       "        True,  True, False, False, False, False,  True, False, False,\n",
       "       False,  True,  True,  True,  True,  True,  True, False, False,\n",
       "        True, False,  True,  True,  True, False,  True,  True, False,\n",
       "        True,  True, False,  True, False,  True,  True, False, False,\n",
       "       False, False, False,  True,  True, False,  True,  True,  True,\n",
       "        True,  True,  True, False,  True, False,  True,  True,  True,\n",
       "       False,  True,  True,  True,  True,  True,  True,  True, False,\n",
       "       False,  True, False, False, False,  True,  True,  True,  True,\n",
       "        True,  True,  True,  True,  True, False, False,  True,  True,\n",
       "        True, False, False,  True, False,  True,  True,  True,  True,\n",
       "       False,  True, False, False,  True,  True, False,  True,  True,\n",
       "        True,  True,  True,  True,  True,  True,  True, False, False,\n",
       "        True,  True,  True,  True,  True, False, False,  True,  True,\n",
       "        True,  True,  True,  True,  True, False,  True,  True,  True,\n",
       "        True,  True, False,  True,  True,  True, False,  True,  True,\n",
       "        True, False,  True, False, False,  True,  True,  True, False,\n",
       "        True,  True,  True,  True,  True,  True,  True, False, False,\n",
       "       False,  True,  True,  True,  True,  True,  True,  True, False,\n",
       "        True,  True,  True,  True,  True,  True, False,  True,  True,\n",
       "       False,  True,  True,  True,  True, False,  True,  True,  True,\n",
       "       False,  True, False, False,  True,  True,  True,  True, False,\n",
       "        True, False,  True, False, False, False,  True,  True,  True,\n",
       "       False,  True,  True,  True,  True, False,  True, False, False,\n",
       "       False,  True, False,  True,  True,  True,  True, False,  True,\n",
       "       False,  True,  True,  True, False,  True,  True, False,  True,\n",
       "       False,  True, False,  True,  True,  True,  True, False,  True,\n",
       "        True,  True,  True, False,  True,  True,  True,  True,  True,\n",
       "        True, False,  True,  True,  True,  True, False,  True,  True,\n",
       "       False, False, False, False, False,  True,  True,  True, False,\n",
       "       False, False,  True,  True,  True,  True, False,  True,  True,\n",
       "       False,  True,  True, False, False,  True, False,  True,  True,\n",
       "       False,  True, False,  True,  True])"
      ]
     },
     "execution_count": 16,
     "metadata": {},
     "output_type": "execute_result"
    }
   ],
   "source": [
    "data[:,2] == 0"
   ]
  }
 ],
 "metadata": {
  "kernelspec": {
   "display_name": "venv",
   "language": "python",
   "name": "python3"
  },
  "language_info": {
   "codemirror_mode": {
    "name": "ipython",
    "version": 3
   },
   "file_extension": ".py",
   "mimetype": "text/x-python",
   "name": "python",
   "nbconvert_exporter": "python",
   "pygments_lexer": "ipython3",
   "version": "3.12.4"
  }
 },
 "nbformat": 4,
 "nbformat_minor": 2
}
