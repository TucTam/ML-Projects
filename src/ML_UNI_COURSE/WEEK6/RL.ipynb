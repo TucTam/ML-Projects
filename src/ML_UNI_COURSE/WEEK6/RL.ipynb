{
 "cells": [
  {
   "cell_type": "code",
   "execution_count": 2,
   "metadata": {},
   "outputs": [],
   "source": [
    "import gymnasium as gym\n",
    "import time\n",
    "import numpy as np\n",
    "import matplotlib.pyplot as plt\n"
   ]
  },
  {
   "cell_type": "code",
   "execution_count": 3,
   "metadata": {},
   "outputs": [
    {
     "name": "stdout",
     "output_type": "stream",
     "text": [
      "\n",
      "\u001b[41mS\u001b[0mFFF\n",
      "FHFH\n",
      "FFFH\n",
      "HFFG\n",
      "\n"
     ]
    }
   ],
   "source": [
    "env = gym.make(\"FrozenLake-v1\", is_slippery=False, render_mode = \"ansi\")\n",
    "env.reset()\n",
    "print(env.render())"
   ]
  },
  {
   "cell_type": "code",
   "execution_count": 9,
   "metadata": {},
   "outputs": [],
   "source": [
    "state_size = env.observation_space.n\n",
    "action_size = env.action_space.n"
   ]
  },
  {
   "cell_type": "code",
   "execution_count": 14,
   "metadata": {},
   "outputs": [
    {
     "data": {
      "text/plain": [
       "array([[0.11993909, 0.83188833, 0.07366672, 0.27338588],\n",
       "       [0.52516914, 0.75246882, 0.90958459, 0.9762093 ],\n",
       "       [0.79909397, 0.65218955, 0.56309452, 0.17608096],\n",
       "       [0.52028006, 0.46589161, 0.74611691, 0.62253996],\n",
       "       [0.00148024, 0.67675672, 0.32221154, 0.38912965],\n",
       "       [0.36023708, 0.39728807, 0.41360841, 0.19150705],\n",
       "       [0.39317263, 0.18593781, 0.47781033, 0.26653173],\n",
       "       [0.03981849, 0.12223653, 0.72255761, 0.91550777],\n",
       "       [0.33252542, 0.49087825, 0.19148852, 0.95484743],\n",
       "       [0.49497661, 0.61793675, 0.82172389, 0.37996623],\n",
       "       [0.65369252, 0.47056158, 0.58955499, 0.55378458],\n",
       "       [0.17715971, 0.19917868, 0.13977771, 0.32011034],\n",
       "       [0.12398866, 0.91237981, 0.79005218, 0.64438897],\n",
       "       [0.67646487, 0.38834375, 0.02926085, 0.92659508],\n",
       "       [0.18125977, 0.33132383, 0.66486927, 0.45658771],\n",
       "       [0.0352227 , 0.79707133, 0.42486637, 0.91267302]])"
      ]
     },
     "execution_count": 14,
     "metadata": {},
     "output_type": "execute_result"
    }
   ],
   "source": [
    "qtable = np.random.rand(state_size, action_size)\n",
    "qtable"
   ]
  },
  {
   "cell_type": "code",
   "execution_count": 17,
   "metadata": {},
   "outputs": [],
   "source": [
    "def eval_policy(qtable, max_steps):\n",
    "    state = env.reset()[0]\n",
    "    total_reward = 0\n",
    "    \n",
    "    for step in range(max_steps):\n",
    "        action = np.argmax(qtable[state,:])\n",
    "        new_state, reward, done, truncated, info = env.step(action)\n",
    "        total_reward += reward\n",
    "        if done:\n",
    "            break\n",
    "        else:\n",
    "            state = new_state\n",
    "    env.close()\n",
    "    return total_reward"
   ]
  },
  {
   "cell_type": "code",
   "execution_count": 27,
   "metadata": {},
   "outputs": [
    {
     "name": "stdout",
     "output_type": "stream",
     "text": [
      "Total reward for randomly initialized qtable is: 0.0\n"
     ]
    }
   ],
   "source": [
    "steps = 100\n",
    "print(f\"Total reward for randomly initialized qtable is: {eval_policy(qtable, steps)}\")"
   ]
  },
  {
   "cell_type": "code",
   "execution_count": 34,
   "metadata": {},
   "outputs": [
    {
     "name": "stdout",
     "output_type": "stream",
     "text": [
      "Found better qtable with a return: 0.0\n"
     ]
    }
   ],
   "source": [
    "# Brute force random qtables and find the best one:\n",
    "reward_best = -1000\n",
    "best_Qtable = qtable\n",
    "max_episodes = 1000\n",
    "max_steps = 100\n",
    "\n",
    "for episode in range(1000):\n",
    "    qtable = np.random.rand(state_size, action_size)\n",
    "    state = env.reset()[0]\n",
    "    \n",
    "    total_reward = eval_policy(qtable, max_steps)\n",
    "\n",
    "    if total_reward > reward_best:\n",
    "        print(f\"Found better qtable with a return: {total_reward}\")\n",
    "        reward_best = total_reward\n",
    "        best_Qtable = qtable\n",
    "\n",
    "    env.close()\n",
    "    "
   ]
  },
  {
   "cell_type": "code",
   "execution_count": 35,
   "metadata": {},
   "outputs": [
    {
     "name": "stdout",
     "output_type": "stream",
     "text": [
      "0.0\n"
     ]
    }
   ],
   "source": [
    "print(reward_best)"
   ]
  },
  {
   "cell_type": "code",
   "execution_count": null,
   "metadata": {},
   "outputs": [],
   "source": []
  }
 ],
 "metadata": {
  "kernelspec": {
   "display_name": "venv",
   "language": "python",
   "name": "python3"
  },
  "language_info": {
   "codemirror_mode": {
    "name": "ipython",
    "version": 3
   },
   "file_extension": ".py",
   "mimetype": "text/x-python",
   "name": "python",
   "nbconvert_exporter": "python",
   "pygments_lexer": "ipython3",
   "version": "3.12.4"
  }
 },
 "nbformat": 4,
 "nbformat_minor": 2
}
