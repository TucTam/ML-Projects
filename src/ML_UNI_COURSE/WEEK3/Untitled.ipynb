{
 "cells": [
  {
   "cell_type": "code",
   "execution_count": 1,
   "id": "a5f3c437-5a4d-4575-abcb-3edb54aec5a3",
   "metadata": {},
   "outputs": [
    {
     "name": "stdout",
     "output_type": "stream",
     "text": [
      "Read words...\n",
      "Read word vectors...\n",
      "Vocabulary size\n",
      "400000\n",
      "300\n",
      "400000\n",
      "for\n",
      "Vocabulary word vectors\n",
      "(400000, 50)\n"
     ]
    }
   ],
   "source": [
    "import random\n",
    "import numpy as np\n",
    "\n",
    "vocabulary_file='word_embeddings.txt'\n",
    "\n",
    "# Read words\n",
    "print('Read words...')\n",
    "with open(vocabulary_file, 'r', encoding='utf-8') as f:\n",
    "    words = [x.rstrip().split(' ')[0] for x in f.readlines()]\n",
    "\n",
    "# Read word vectors\n",
    "print('Read word vectors...')\n",
    "with open(vocabulary_file, 'r', encoding='utf-8') as f:\n",
    "    vectors = {}\n",
    "    for line in f:\n",
    "        vals = line.rstrip().split(' ')\n",
    "        vectors[vals[0]] = [float(x) for x in vals[1:]]\n",
    "\n",
    "vocab_size = len(words)\n",
    "vocab = {w: idx for idx, w in enumerate(words)}\n",
    "ivocab = {idx: w for idx, w in enumerate(words)}\n",
    "\n",
    "# Vocabulary and inverse vocabulary (dict objects)\n",
    "print('Vocabulary size')\n",
    "print(len(vocab))\n",
    "print(vocab['man'])\n",
    "print(len(ivocab))\n",
    "print(ivocab[10])\n",
    "\n",
    "# W contains vectors for\n",
    "print('Vocabulary word vectors')\n",
    "vector_dim = len(vectors[ivocab[0]])\n",
    "W = np.zeros((vocab_size, vector_dim))\n",
    "for word, v in vectors.items():\n",
    "    if word == '<unk>':\n",
    "        continue\n",
    "    W[vocab[word], :] = v\n",
    "print(W.shape)\n",
    "    "
   ]
  },
  {
   "cell_type": "code",
   "execution_count": 50,
   "id": "d4a73b26-bbd5-43d3-b087-4ca09eb93f83",
   "metadata": {},
   "outputs": [],
   "source": [
    "# Returns the distances of the pivot and all the other points\n",
    "def all_distances(pivot, dataset):\n",
    "    distances = []\n",
    "    for x in dataset:\n",
    "        distances.extend([np.linalg.norm(x-pivot)])\n",
    "    return distances\n",
    "\n",
    "def find_nth_smallest_index(container, n):\n",
    "    temp = sorted(container)\n",
    "    return np.where(container == temp[n])[0][0]"
   ]
  },
  {
   "cell_type": "code",
   "execution_count": 58,
   "id": "9dee7316-735a-48c6-a8f1-1c63e87385cf",
   "metadata": {},
   "outputs": [
    {
     "name": "stdin",
     "output_type": "stream",
     "text": [
      "\n",
      "Enter word (EXIT to break):  love-kiss-hate\n"
     ]
    },
    {
     "name": "stdout",
     "output_type": "stream",
     "text": [
      "\n",
      "                               Word       Distance\n",
      "\n",
      "---------------------------------------------------------\n",
      "\n",
      "                               hate\t\t3.470367\n",
      "\n",
      "                              shout\t\t3.879613\n",
      "\n"
     ]
    },
    {
     "name": "stdin",
     "output_type": "stream",
     "text": [
      "\n",
      "Enter word (EXIT to break):  finland-helsinki-china\n"
     ]
    },
    {
     "name": "stdout",
     "output_type": "stream",
     "text": [
      "\n",
      "                               Word       Distance\n",
      "\n",
      "---------------------------------------------------------\n",
      "\n",
      "                            beijing\t\t3.213214\n",
      "\n",
      "                              china\t\t3.975529\n",
      "\n"
     ]
    },
    {
     "name": "stdin",
     "output_type": "stream",
     "text": [
      "\n",
      "Enter word (EXIT to break):  EXIT\n"
     ]
    }
   ],
   "source": [
    "# Main loop for analogy\n",
    "while True:\n",
    "    input_term = input(\"\\nEnter word (EXIT to break): \")\n",
    "    if input_term == 'EXIT':\n",
    "        break\n",
    "    else:\n",
    "        terms = input_term.split(\"-\")\n",
    "        z = W[vocab[terms[2]]] + (W[vocab[terms[1]]] - W[vocab[terms[0]]])\n",
    "        distances = all_distances(z, W)\n",
    "        \n",
    "        a = [find_nth_smallest_index(distances, 0), find_nth_smallest_index(distances, 1),]\n",
    "        \n",
    "        print(\"\\n                               Word       Distance\\n\")\n",
    "        print(\"---------------------------------------------------------\\n\")\n",
    "        for x in a:\n",
    "            print(\"%35s\\t\\t%f\\n\" % (ivocab[x], distances[x]))"
   ]
  },
  {
   "cell_type": "code",
   "execution_count": null,
   "id": "b5b31101-0d91-4cca-969f-19ace02e1080",
   "metadata": {},
   "outputs": [],
   "source": []
  }
 ],
 "metadata": {
  "kernelspec": {
   "display_name": "Python 3 (ipykernel)",
   "language": "python",
   "name": "python3"
  },
  "language_info": {
   "codemirror_mode": {
    "name": "ipython",
    "version": 3
   },
   "file_extension": ".py",
   "mimetype": "text/x-python",
   "name": "python",
   "nbconvert_exporter": "python",
   "pygments_lexer": "ipython3",
   "version": "3.12.4"
  }
 },
 "nbformat": 4,
 "nbformat_minor": 5
}
